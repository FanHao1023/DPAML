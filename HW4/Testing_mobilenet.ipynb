{
 "cells": [
  {
   "cell_type": "code",
   "execution_count": 3,
   "metadata": {},
   "outputs": [
    {
     "name": "stdout",
     "output_type": "stream",
     "text": [
      "Found 10905 images belonging to 2 classes.\n",
      "\n",
      "Time for predicting : 109.77597308158875\n",
      "\n",
      "accuracy = 80.12%\n"
     ]
    }
   ],
   "source": [
    "import tensorflow as tf\n",
    "from tensorflow.keras.preprocessing.image import ImageDataGenerator\n",
    "from tensorflow.keras.applications import VGG16\n",
    "from tensorflow.keras.layers import Dropout, Flatten, Dense, Input, Conv2D, MaxPooling2D, GlobalAveragePooling2D\n",
    "from tensorflow.keras.models import Model, Sequential\n",
    "from tensorflow.keras.optimizers import SGD, RMSprop\n",
    "# from sklearn.metrics import classification_report\n",
    "import matplotlib.pyplot as plt\n",
    "import os\n",
    "# from sklearn.metrics import confusion_matrix, classification_report\n",
    "# from sklearn.metrics import average_precision_score\n",
    "import numpy as np \n",
    "from tensorflow.keras.models import load_model\n",
    "import time\n",
    "\n",
    "# loading model\n",
    "model = load_model('models/MobileNet_tf1_v1.h5')\n",
    "\n",
    "# loading testing data\n",
    "test_datagen = ImageDataGenerator(rescale=1./255)\n",
    "test_set = test_datagen.flow_from_directory('Dataset/Test', target_size=(224,224),\n",
    "                                                  batch_size=64, class_mode='binary', shuffle=False)\n",
    "\n",
    "# Make predictions on the test data\n",
    "start=time.time()\n",
    "\n",
    "num_test_sample=len(test_set)\n",
    "num_classes=len(test_set.class_indices)\n",
    "\n",
    "predicted_probabilities=model.predict(test_set,steps=num_test_sample)\n",
    "predicted_labels=np.argmax(predicted_probabilities,axis=1)\n",
    "\n",
    "end = time.time()\n",
    "accumulate_time = (end - start)\n",
    "\n",
    "print(f\"\\nTime for predicting : {accumulate_time}\\n\")\n",
    "\n",
    "true_labels=test_set.classes\n",
    "\n",
    "# report=classification_report(true_labels,predicted_labels)\n",
    "\n",
    "\n",
    "score = 0\n",
    "for i in range(num_test_sample):\n",
    "    if predicted_labels[i] == true_labels[i]:\n",
    "        score += 1\n",
    "        \n",
    "report = (float(score) / num_test_sample) * 100\n",
    "print(f\"accuracy = {report:.2f}%\")\n",
    "\n",
    "\n",
    "# print(report)"
   ]
  },
  {
   "cell_type": "code",
   "execution_count": null,
   "metadata": {},
   "outputs": [],
   "source": []
  }
 ],
 "metadata": {
  "kernelspec": {
   "display_name": "MNIST",
   "language": "python",
   "name": "python3"
  },
  "language_info": {
   "codemirror_mode": {
    "name": "ipython",
    "version": 3
   },
   "file_extension": ".py",
   "mimetype": "text/x-python",
   "name": "python",
   "nbconvert_exporter": "python",
   "pygments_lexer": "ipython3",
   "version": "3.6.15"
  }
 },
 "nbformat": 4,
 "nbformat_minor": 2
}
