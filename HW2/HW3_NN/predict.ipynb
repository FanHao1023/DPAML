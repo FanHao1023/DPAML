{
 "cells": [
  {
   "cell_type": "code",
   "execution_count": 1,
   "id": "e47cc3ac",
   "metadata": {},
   "outputs": [
    {
     "name": "stderr",
     "output_type": "stream",
     "text": [
      "C:\\Users\\USER\\anaconda3\\envs\\MNIST\\lib\\site-packages\\tensorflow\\python\\framework\\dtypes.py:526: FutureWarning: Passing (type, 1) or '1type' as a synonym of type is deprecated; in a future version of numpy, it will be understood as (type, (1,)) / '(1,)type'.\n",
      "  _np_qint8 = np.dtype([(\"qint8\", np.int8, 1)])\n",
      "C:\\Users\\USER\\anaconda3\\envs\\MNIST\\lib\\site-packages\\tensorflow\\python\\framework\\dtypes.py:527: FutureWarning: Passing (type, 1) or '1type' as a synonym of type is deprecated; in a future version of numpy, it will be understood as (type, (1,)) / '(1,)type'.\n",
      "  _np_quint8 = np.dtype([(\"quint8\", np.uint8, 1)])\n",
      "C:\\Users\\USER\\anaconda3\\envs\\MNIST\\lib\\site-packages\\tensorflow\\python\\framework\\dtypes.py:528: FutureWarning: Passing (type, 1) or '1type' as a synonym of type is deprecated; in a future version of numpy, it will be understood as (type, (1,)) / '(1,)type'.\n",
      "  _np_qint16 = np.dtype([(\"qint16\", np.int16, 1)])\n",
      "C:\\Users\\USER\\anaconda3\\envs\\MNIST\\lib\\site-packages\\tensorflow\\python\\framework\\dtypes.py:529: FutureWarning: Passing (type, 1) or '1type' as a synonym of type is deprecated; in a future version of numpy, it will be understood as (type, (1,)) / '(1,)type'.\n",
      "  _np_quint16 = np.dtype([(\"quint16\", np.uint16, 1)])\n",
      "C:\\Users\\USER\\anaconda3\\envs\\MNIST\\lib\\site-packages\\tensorflow\\python\\framework\\dtypes.py:530: FutureWarning: Passing (type, 1) or '1type' as a synonym of type is deprecated; in a future version of numpy, it will be understood as (type, (1,)) / '(1,)type'.\n",
      "  _np_qint32 = np.dtype([(\"qint32\", np.int32, 1)])\n",
      "C:\\Users\\USER\\anaconda3\\envs\\MNIST\\lib\\site-packages\\tensorflow\\python\\framework\\dtypes.py:535: FutureWarning: Passing (type, 1) or '1type' as a synonym of type is deprecated; in a future version of numpy, it will be understood as (type, (1,)) / '(1,)type'.\n",
      "  np_resource = np.dtype([(\"resource\", np.ubyte, 1)])\n",
      "Using TensorFlow backend.\n"
     ]
    }
   ],
   "source": [
    "import numpy as np\n",
    "from data import load_new_data\n",
    "from keras import models\n",
    "import time"
   ]
  },
  {
   "cell_type": "code",
   "execution_count": 2,
   "id": "a052b1aa",
   "metadata": {
    "scrolled": true
   },
   "outputs": [
    {
     "name": "stdout",
     "output_type": "stream",
     "text": [
      "WARNING:tensorflow:From C:\\Users\\USER\\anaconda3\\envs\\MNIST\\lib\\site-packages\\tensorflow\\python\\framework\\op_def_library.py:263: colocate_with (from tensorflow.python.framework.ops) is deprecated and will be removed in a future version.\n",
      "Instructions for updating:\n",
      "Colocations handled automatically by placer.\n",
      "WARNING:tensorflow:From C:\\Users\\USER\\anaconda3\\envs\\MNIST\\lib\\site-packages\\tensorflow\\python\\ops\\math_ops.py:3066: to_int32 (from tensorflow.python.ops.math_ops) is deprecated and will be removed in a future version.\n",
      "Instructions for updating:\n",
      "Use tf.cast instead.\n",
      "load  NN_2024_03_15 01_02_31.h5\n"
     ]
    }
   ],
   "source": [
    "##load model\n",
    "\n",
    "name=\"NN_2024_03_15 01_02_31.h5\"\n",
    "model = models.load_model(name)\n",
    "print(\"load \",name)"
   ]
  },
  {
   "cell_type": "code",
   "execution_count": 3,
   "id": "de76655a",
   "metadata": {},
   "outputs": [],
   "source": [
    "def translate_Y(yi , show = False):\n",
    "    temp=0    \n",
    "    for i in range(10):          \n",
    "          if yi[i] >= temp:\n",
    "              temp=yi[i]\n",
    "              yi_new=i\n",
    "              \n",
    "    return yi_new"
   ]
  },
  {
   "cell_type": "code",
   "execution_count": 4,
   "id": "98157577",
   "metadata": {},
   "outputs": [
    {
     "name": "stdout",
     "output_type": "stream",
     "text": [
      "\n",
      "-----------------check_mat------------------\n",
      "data keys : dict_keys(['__header__', '__version__', '__globals__', 'train_data', 'train_label', 'test_data', 'test_label'])\n",
      "train_data shape : (55000, 28, 28)\n",
      "img pixel type : <class 'numpy.float32'>\n",
      "check_mat train label [0. 0. 0. 0. 1. 0. 0. 0. 0. 0.]\n"
     ]
    },
    {
     "data": {
      "image/png": "[encoded data removed]",
      "text/plain": [
       "<Figure size 432x288 with 1 Axes>"
      ]
     },
     "metadata": {
      "needs_background": "light"
     },
     "output_type": "display_data"
    }
   ],
   "source": [
    "import matplotlib.pyplot as plt\n",
    "\n",
    "train_data,train_label,test_data,test_label=load_new_data(True)\n",
    "train_data=train_data.reshape(train_data.shape[0],28,28,1)\n",
    "test_data=test_data.reshape(test_data.shape[0],28,28,1)\n",
    "\n",
    "train_data_len=train_data.shape[0]\n",
    "test_data_len=test_data.shape[0]"
   ]
  },
  {
   "cell_type": "code",
   "execution_count": 5,
   "id": "d797a546",
   "metadata": {},
   "outputs": [
    {
     "name": "stdout",
     "output_type": "stream",
     "text": [
      "predict fail in 8 image\n"
     ]
    },
    {
     "data": {
      "image/png": "[encoded data removed]",
      "text/plain": [
       "<Figure size 432x288 with 1 Axes>"
      ]
     },
     "metadata": {
      "needs_background": "light"
     },
     "output_type": "display_data"
    },
    {
     "name": "stdout",
     "output_type": "stream",
     "text": [
      "golden : 5\n",
      "predict : 6\n",
      "[3.9622742e-03 6.6308668e-05 1.6702436e-03 4.5213230e-07 2.9215882e-02\n",
      " 1.3455457e-02 9.4979256e-01 6.4087573e-05 1.3091245e-03 4.6365289e-04]\n",
      "average per execute time: 0.001986 ms\n"
     ]
    }
   ],
   "source": [
    "##predict\n",
    "accumulate_time=0\n",
    "\n",
    "for i in range(test_data_len):  # 依序於所有test data中\n",
    "    #print ('train_data shape :',train_data[i].shape)\n",
    "    input_data=test_data[i]\n",
    "    input_data=input_data[np.newaxis, :]\n",
    "    #print ('input_data shape :',input_data.shape)\n",
    "    start = time.time()\n",
    "    prediction=model.predict(input_data) \n",
    "    end = time.time()\n",
    "    accumulate_time += (end - start)\n",
    "    #print (prediction)\n",
    "    result=translate_Y(prediction[0])\n",
    "    golden=translate_Y(test_label[i])\n",
    "\n",
    "    if result!=golden :\n",
    "        \n",
    "        print ('predict fail in',i,'image')\n",
    "        plt.imshow(test_data[i])\n",
    "        plt.show()\n",
    "        print ('golden :',golden)\n",
    "        print ('predict :',result)\n",
    "        print (prediction[0])\n",
    "        break\n",
    "        \n",
    "print ('average per execute time: %f ms' %(accumulate_time/test_data_len*1000))"
   ]
  },
  {
   "cell_type": "code",
   "execution_count": null,
   "id": "9bb1d08d",
   "metadata": {},
   "outputs": [],
   "source": []
  },
  {
   "cell_type": "code",
   "execution_count": null,
   "id": "e7888630",
   "metadata": {},
   "outputs": [],
   "source": []
  }
 ],
 "metadata": {
  "kernelspec": {
   "display_name": "Python 3",
   "language": "python",
   "name": "python3"
  },
  "language_info": {
   "codemirror_mode": {
    "name": "ipython",
    "version": 3
   },
   "file_extension": ".py",
   "mimetype": "text/x-python",
   "name": "python",
   "nbconvert_exporter": "python",
   "pygments_lexer": "ipython3",
   "version": "3.6.13"
  },
  "toc": {
   "base_numbering": 1,
   "nav_menu": {},
   "number_sections": false,
   "sideBar": true,
   "skip_h1_title": true,
   "title_cell": "Table of Contents",
   "title_sidebar": "Contents",
   "toc_cell": false,
   "toc_position": {},
   "toc_section_display": true,
   "toc_window_display": false
  },
  "varInspector": {
   "cols": {
    "lenName": 16,
    "lenType": 16,
    "lenVar": 40
   },
   "kernels_config": {
    "python": {
     "delete_cmd_postfix": "",
     "delete_cmd_prefix": "del ",
     "library": "var_list.py",
     "varRefreshCmd": "print(var_dic_list())"
    },
    "r": {
     "delete_cmd_postfix": ") ",
     "delete_cmd_prefix": "rm(",
     "library": "var_list.r",
     "varRefreshCmd": "cat(var_dic_list()) "
    }
   },
   "types_to_exclude": [
    "module",
    "function",
    "builtin_function_or_method",
    "instance",
    "_Feature"
   ],
   "window_display": false
  }
 },
 "nbformat": 4,
 "nbformat_minor": 5
}
