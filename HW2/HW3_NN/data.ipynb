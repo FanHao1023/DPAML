{
 "cells": [
  {
   "cell_type": "code",
   "execution_count": 1,
   "id": "ae827ae5",
   "metadata": {},
   "outputs": [
    {
     "name": "stderr",
     "output_type": "stream",
     "text": [
      "C:\\Users\\paula\\anaconda3\\envs\\MNIST\\lib\\site-packages\\tensorflow\\python\\framework\\dtypes.py:526: FutureWarning: Passing (type, 1) or '1type' as a synonym of type is deprecated; in a future version of numpy, it will be understood as (type, (1,)) / '(1,)type'.\n",
      "  _np_qint8 = np.dtype([(\"qint8\", np.int8, 1)])\n",
      "C:\\Users\\paula\\anaconda3\\envs\\MNIST\\lib\\site-packages\\tensorflow\\python\\framework\\dtypes.py:527: FutureWarning: Passing (type, 1) or '1type' as a synonym of type is deprecated; in a future version of numpy, it will be understood as (type, (1,)) / '(1,)type'.\n",
      "  _np_quint8 = np.dtype([(\"quint8\", np.uint8, 1)])\n",
      "C:\\Users\\paula\\anaconda3\\envs\\MNIST\\lib\\site-packages\\tensorflow\\python\\framework\\dtypes.py:528: FutureWarning: Passing (type, 1) or '1type' as a synonym of type is deprecated; in a future version of numpy, it will be understood as (type, (1,)) / '(1,)type'.\n",
      "  _np_qint16 = np.dtype([(\"qint16\", np.int16, 1)])\n",
      "C:\\Users\\paula\\anaconda3\\envs\\MNIST\\lib\\site-packages\\tensorflow\\python\\framework\\dtypes.py:529: FutureWarning: Passing (type, 1) or '1type' as a synonym of type is deprecated; in a future version of numpy, it will be understood as (type, (1,)) / '(1,)type'.\n",
      "  _np_quint16 = np.dtype([(\"quint16\", np.uint16, 1)])\n",
      "C:\\Users\\paula\\anaconda3\\envs\\MNIST\\lib\\site-packages\\tensorflow\\python\\framework\\dtypes.py:530: FutureWarning: Passing (type, 1) or '1type' as a synonym of type is deprecated; in a future version of numpy, it will be understood as (type, (1,)) / '(1,)type'.\n",
      "  _np_qint32 = np.dtype([(\"qint32\", np.int32, 1)])\n",
      "C:\\Users\\paula\\anaconda3\\envs\\MNIST\\lib\\site-packages\\tensorflow\\python\\framework\\dtypes.py:535: FutureWarning: Passing (type, 1) or '1type' as a synonym of type is deprecated; in a future version of numpy, it will be understood as (type, (1,)) / '(1,)type'.\n",
      "  np_resource = np.dtype([(\"resource\", np.ubyte, 1)])\n",
      "Using TensorFlow backend.\n"
     ]
    }
   ],
   "source": [
    "<div class=\"burk\">\n",
    "import scipy.io\n",
    "import numpy as np\n",
    "from PIL import Image \n",
    "import matplotlib.pyplot as plt\n",
    "\n",
    "from tensorflow.examples.tutorials.mnist import input_data\n",
    "# In[0]:\n",
    "\n",
    "import tensorflow as ts\n",
    "from keras.datasets import mnist</div><i class=\"fa fa-lightbulb-o \"></i>"
   ]
  },
  {
   "cell_type": "code",
   "execution_count": 2,
   "id": "e99c522b",
   "metadata": {},
   "outputs": [],
   "source": [
    "def load_original_data():\n",
    "    print ('\\n-------------load_original_data-------------')\n",
    "    mnist = input_data.read_data_sets(\"MNIST_data/\", one_hot=True)\n",
    "    print(type(mnist))\n",
    "    train_img = mnist.train.images.reshape(55000,28,28)\n",
    "    train_label = mnist.train.labels.reshape(55000,-1)\n",
    "    test_img = mnist.test.images.reshape(10000,28,28)\n",
    "    test_label = mnist.test.labels.reshape(10000,-1)\n",
    "\n",
    "    \n",
    "    return train_img,train_label,test_img,test_label\n",
    "    "
   ]
  },
  {
   "cell_type": "code",
   "execution_count": 3,
   "id": "507f982b",
   "metadata": {},
   "outputs": [],
   "source": [
    "def show_data (train_img,train_label,test_img,test_label,index):\n",
    "    print ('\\n-----------------show_data------------------')\n",
    "    \n",
    "    \n",
    "    print ('img pixel type :',type(train_img[0][0][0]))\n",
    "    print('\\n')\n",
    "    \n",
    "    print ('train_img shape :',train_img.shape)\n",
    "    print ('train_label shape :',train_label.shape)\n",
    "    print('\\n')\n",
    "    \n",
    "    print ('test_img shape :',test_img.shape)\n",
    "    print ('test_label shape :',test_label.shape)\n",
    "    picture=train_img[index]\n",
    "    print ('--------------------------------------------')\n",
    "    print ('train_img',index,'shape :' ,picture.shape)\n",
    "    plt.imshow(picture)\n",
    "    plt.show()"
   ]
  },
  {
   "cell_type": "code",
   "execution_count": 4,
   "id": "b77b1574",
   "metadata": {},
   "outputs": [],
   "source": [
    "def save_mat_data(train_data,train_label,test_data,test_label): \n",
    "    print ('\\n---------------save_mat_data----------------\\n')\n",
    "    scipy.io.savemat('data.mat',{'train_data':train_data,'train_label':train_label,\n",
    "                                 'test_data':test_data,'test_label':test_label})\n",
    "    print ('save_mat_data finish !!!')"
   ]
  },
  {
   "cell_type": "code",
   "execution_count": 5,
   "id": "9e5c7fb4",
   "metadata": {},
   "outputs": [],
   "source": [
    "def resize_img (o_data,new_astype,new_size):  \n",
    "    print ('\\n----------------resize_img------------------')\n",
    "    print ('o_data shape :',o_data.shape)\n",
    "    index=0\n",
    "    p_data=[]\n",
    "    for i in o_data:\n",
    "        ############################\n",
    "        if new_astype == 'uint8':\n",
    "            i=i*255\n",
    "            i=i.astype(np.uint8)\n",
    "            '''\n",
    "            print (type(i),i.shape)\n",
    "            print ('img pixel type :',type(i[0][0]))\n",
    "            plt.imshow(i)\n",
    "            plt.show()\n",
    "            '''\n",
    "        ############################\n",
    "        img = Image.fromarray(i)\n",
    "        '''\n",
    "        print ('array2img')\n",
    "        plt.imshow(img)\n",
    "        plt.show()\n",
    "        '''\n",
    "        ############################\n",
    "        img=img.resize((new_size,new_size)) \n",
    "        p_data.append(np.array(img))     \n",
    "        index+=1\n",
    "        '''\n",
    "        print ('resize_img')\n",
    "        plt.imshow(img)\n",
    "        plt.show()\n",
    "        '''\n",
    "        \n",
    "        #print ('--------------------------------------------')\n",
    "        \n",
    "    p_data=np.array(p_data)   \n",
    "    print ('p_data shape :',p_data.shape)\n",
    "\n",
    "    return p_data"
   ]
  },
  {
   "cell_type": "code",
   "execution_count": 6,
   "id": "681d7792",
   "metadata": {},
   "outputs": [],
   "source": [
    "def check_mat ():  \n",
    "    print ('\\n-----------------check_mat------------------')\n",
    "    data = scipy.io.loadmat('data.mat') \n",
    "    print('data keys :',data.keys())\n",
    "    train_data =np.array(data['train_data'])\n",
    "    print ('train_data shape :',train_data.shape)\n",
    "    print ('img pixel type :',type(train_data[0][0][0]))\n",
    "    #print ('check_mat train data',data['train_data'][2])\n",
    "    print ('check_mat train label',data['train_label'][2])\n",
    "    plt.imshow(train_data[2])\n",
    "    plt.show()\n",
    "    "
   ]
  },
  {
   "cell_type": "code",
   "execution_count": 7,
   "id": "ee6b93e3",
   "metadata": {},
   "outputs": [],
   "source": [
    "def data_convert (new_astype='float32',new_size=28):\n",
    "    '''\n",
    "    ##################################################################\n",
    "                    ori mnist data 28x28(float32)\n",
    "                    change astype using new_astype=XXX\n",
    "                    change img size using new_size=XXX\n",
    "    ##################################################################\n",
    "    '''\n",
    "    train_img,train_label,test_img,test_label=load_original_data()\n",
    "    show_data (train_img,train_label,test_img,test_label,index=2)\n",
    "    \n",
    "    print ('----- resize train_img from 28x28 to ',new_size,'x',new_size,'with',new_astype)\n",
    "    n_train_img=resize_img (train_img,new_astype,new_size)\n",
    "    print ('----- resize test_img  from 28x28 to ',new_size,'x',new_size,'with',new_astype)\n",
    "    n_test_img=resize_img (test_img,new_astype,new_size)\n",
    "    \n",
    "    show_data (n_train_img,train_label,n_test_img,test_label,index=2)\n",
    "    save_mat_data(n_train_img,train_label,n_test_img,test_label)\n",
    "    check_mat ()"
   ]
  },
  {
   "cell_type": "code",
   "execution_count": 8,
   "id": "94489609",
   "metadata": {},
   "outputs": [],
   "source": [
    "def load_new_data (check):\n",
    "    '''\n",
    "    ##################################################################\n",
    "                    load mnist data 28x28(float32)\n",
    "    ##################################################################\n",
    "    data name : 'data.mat'\n",
    "    data keys : dict_keys('train_data', 'train_label', 'test_data', 'test_label'])\n",
    "    ##################################################################\n",
    "    train_img shape : (55000, 28, 28)\n",
    "    train_label shape : (55000, 10)\n",
    "    test_img shape : (10000, 28, 28)\n",
    "    test_label shape : (10000, 10)\n",
    "    ##################################################################\n",
    "    '''\n",
    "    data = scipy.io.loadmat('data.mat')\n",
    "    train_data=data['train_data']\n",
    "    train_label=data['train_label']\n",
    "    test_data=data['test_data']\n",
    "    test_label=data['test_label']\n",
    "    if (check):\n",
    "        check_mat ()\n",
    "    return  train_data,train_label,test_data,test_label"
   ]
  },
  {
   "cell_type": "code",
   "execution_count": null,
   "id": "724fdd61",
   "metadata": {},
   "outputs": [],
   "source": []
  },
  {
   "cell_type": "code",
   "execution_count": null,
   "id": "ea1d23e0",
   "metadata": {},
   "outputs": [],
   "source": []
  }
 ],
 "metadata": {
  "kernelspec": {
   "display_name": "Python 3",
   "language": "python",
   "name": "python3"
  },
  "language_info": {
   "codemirror_mode": {
    "name": "ipython",
    "version": 3
   },
   "file_extension": ".py",
   "mimetype": "text/x-python",
   "name": "python",
   "nbconvert_exporter": "python",
   "pygments_lexer": "ipython3",
   "version": "3.6.13"
  },
  "toc": {
   "base_numbering": 1,
   "nav_menu": {},
   "number_sections": false,
   "sideBar": true,
   "skip_h1_title": true,
   "title_cell": "Table of Contents",
   "title_sidebar": "Contents",
   "toc_cell": false,
   "toc_position": {},
   "toc_section_display": true,
   "toc_window_display": false
  },
  "varInspector": {
   "cols": {
    "lenName": 16,
    "lenType": 16,
    "lenVar": 40
   },
   "kernels_config": {
    "python": {
     "delete_cmd_postfix": "",
     "delete_cmd_prefix": "del ",
     "library": "var_list.py",
     "varRefreshCmd": "print(var_dic_list())"
    },
    "r": {
     "delete_cmd_postfix": ") ",
     "delete_cmd_prefix": "rm(",
     "library": "var_list.r",
     "varRefreshCmd": "cat(var_dic_list()) "
    }
   },
   "types_to_exclude": [
    "module",
    "function",
    "builtin_function_or_method",
    "instance",
    "_Feature"
   ],
   "window_display": false
  }
 },
 "nbformat": 4,
 "nbformat_minor": 5
}
