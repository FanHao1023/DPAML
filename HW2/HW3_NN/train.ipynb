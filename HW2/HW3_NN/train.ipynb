{
 "cells": [
  {
   "cell_type": "code",
   "execution_count": 1,
   "id": "d2ce29bc",
   "metadata": {},
   "outputs": [
    {
     "name": "stderr",
     "output_type": "stream",
     "text": [
      "Using TensorFlow backend.\n",
      "C:\\Users\\USER\\anaconda3\\envs\\MNIST\\lib\\site-packages\\tensorflow\\python\\framework\\dtypes.py:526: FutureWarning: Passing (type, 1) or '1type' as a synonym of type is deprecated; in a future version of numpy, it will be understood as (type, (1,)) / '(1,)type'.\n",
      "  _np_qint8 = np.dtype([(\"qint8\", np.int8, 1)])\n",
      "C:\\Users\\USER\\anaconda3\\envs\\MNIST\\lib\\site-packages\\tensorflow\\python\\framework\\dtypes.py:527: FutureWarning: Passing (type, 1) or '1type' as a synonym of type is deprecated; in a future version of numpy, it will be understood as (type, (1,)) / '(1,)type'.\n",
      "  _np_quint8 = np.dtype([(\"quint8\", np.uint8, 1)])\n",
      "C:\\Users\\USER\\anaconda3\\envs\\MNIST\\lib\\site-packages\\tensorflow\\python\\framework\\dtypes.py:528: FutureWarning: Passing (type, 1) or '1type' as a synonym of type is deprecated; in a future version of numpy, it will be understood as (type, (1,)) / '(1,)type'.\n",
      "  _np_qint16 = np.dtype([(\"qint16\", np.int16, 1)])\n",
      "C:\\Users\\USER\\anaconda3\\envs\\MNIST\\lib\\site-packages\\tensorflow\\python\\framework\\dtypes.py:529: FutureWarning: Passing (type, 1) or '1type' as a synonym of type is deprecated; in a future version of numpy, it will be understood as (type, (1,)) / '(1,)type'.\n",
      "  _np_quint16 = np.dtype([(\"quint16\", np.uint16, 1)])\n",
      "C:\\Users\\USER\\anaconda3\\envs\\MNIST\\lib\\site-packages\\tensorflow\\python\\framework\\dtypes.py:530: FutureWarning: Passing (type, 1) or '1type' as a synonym of type is deprecated; in a future version of numpy, it will be understood as (type, (1,)) / '(1,)type'.\n",
      "  _np_qint32 = np.dtype([(\"qint32\", np.int32, 1)])\n",
      "C:\\Users\\USER\\anaconda3\\envs\\MNIST\\lib\\site-packages\\tensorflow\\python\\framework\\dtypes.py:535: FutureWarning: Passing (type, 1) or '1type' as a synonym of type is deprecated; in a future version of numpy, it will be understood as (type, (1,)) / '(1,)type'.\n",
      "  np_resource = np.dtype([(\"resource\", np.ubyte, 1)])\n"
     ]
    }
   ],
   "source": [
    "# In[1]:\n",
    "import os\n",
    "import scipy.io\n",
    "from keras.models import Sequential\n",
    "from keras.layers import Dense\n",
    "import numpy as np\n",
    "from PIL import Image \n",
    "from data import load_new_data, data_convert\n",
    "from keras.layers import Input, Add, Dense, Dropout, Activation, ZeroPadding2D, BatchNormalization, Flatten, Conv2D, AveragePooling2D, MaxPooling2D, GlobalMaxPooling2D,concatenate,Cropping2D\n",
    "from keras.models import Model\n",
    "import time\n",
    "\n",
    "from tensorflow import set_random_seed\n",
    "\n"
   ]
  },
  {
   "cell_type": "code",
   "execution_count": 2,
   "id": "874ed6e1",
   "metadata": {},
   "outputs": [
    {
     "name": "stdout",
     "output_type": "stream",
     "text": [
      "model dir exist\n",
      "data.mat already exist\n"
     ]
    }
   ],
   "source": [
    "pixel=28\n",
    "    \n",
    "if os.path.isdir('model'):\n",
    "    print(\"model dir exist\")\n",
    "else:\n",
    "    print(\"create model dir\")  \n",
    "    os.mkdir('model')\n",
    "    \n",
    "if os.path.isfile('data.mat'):\n",
    "    print ('data.mat already exist')\n",
    "    #data_convert (new_astype='uint8', new_size=pixel)\n",
    "else:\n",
    "    #data_convert (new_astype='uint8', new_size=pixel)\n",
    "    data_convert (new_size=pixel)\n"
   ]
  },
  {
   "cell_type": "code",
   "execution_count": 3,
   "id": "cd0a3dff",
   "metadata": {},
   "outputs": [
    {
     "name": "stdout",
     "output_type": "stream",
     "text": [
      "\n",
      "-----------------check_mat------------------\n",
      "data keys : dict_keys(['__header__', '__version__', '__globals__', 'train_data', 'train_label', 'test_data', 'test_label'])\n",
      "train_data shape : (55000, 28, 28)\n",
      "img pixel type : <class 'numpy.float32'>\n",
      "check_mat train label [0. 0. 0. 0. 1. 0. 0. 0. 0. 0.]\n"
     ]
    },
    {
     "data": {
      "image/png": "[encoded data removed]",
      "text/plain": [
       "<Figure size 432x288 with 1 Axes>"
      ]
     },
     "metadata": {
      "needs_background": "light"
     },
     "output_type": "display_data"
    },
    {
     "name": "stdout",
     "output_type": "stream",
     "text": [
      "train_data.shape: (55000, 28, 28)\n",
      "train_label.shape: (55000, 10)\n",
      "test_data.shape: (10000, 28, 28)\n",
      "test_label.shape: (10000, 10)\n",
      "------------------------------------\n",
      "train_data.shape: (55000, 28, 28, 1)\n",
      "train_label.shape: (55000, 10)\n",
      "test_data.shape: (10000, 28, 28, 1)\n",
      "test_label.shape: (10000, 10)\n"
     ]
    }
   ],
   "source": [
    "train_data,train_label,test_data,test_label=load_new_data(True) # load data from 'data.mat\n",
    "\n",
    "print (\"train_data.shape:\",train_data.shape)\n",
    "print (\"train_label.shape:\",train_label.shape)\n",
    "print (\"test_data.shape:\",test_data.shape)\n",
    "print (\"test_label.shape:\",test_label.shape)\n",
    "\n",
    "train_data=train_data.reshape(train_data.shape[0],pixel,pixel,1) # 三維 to 四維\n",
    "test_data=test_data.reshape(test_data.shape[0],pixel,pixel,1)\n",
    "\n",
    "print (\"------------------------------------\")\n",
    "print (\"train_data.shape:\",train_data.shape)\n",
    "print (\"train_label.shape:\",train_label.shape)\n",
    "print (\"test_data.shape:\",test_data.shape)\n",
    "print (\"test_label.shape:\",test_label.shape)"
   ]
  },
  {
   "cell_type": "code",
   "execution_count": 27,
   "id": "b60c652f",
   "metadata": {
    "scrolled": true
   },
   "outputs": [
    {
     "name": "stdout",
     "output_type": "stream",
     "text": [
      "train_data.shape: (3438, 28, 28, 1)\n",
      "train_label.shape: (3438, 10)\n"
     ]
    },
    {
     "data": {
      "text/plain": [
       "'\\nBATCH_SIZE = 256 #change there\\nNUM_EPOCHS = 35\\nTRAIN_DATA = 1 \\nVAL = 0.2\\n\\nTRAIN_DATA=int (1/TRAIN_DATA)\\ntrain_data = train_data [::TRAIN_DATA]\\ntrain_label = train_label [::TRAIN_DATA]\\nprint (\"train_data.shape:\",train_data.shape)\\nprint (\"train_label.shape:\",train_label.shape)\\n'"
      ]
     },
     "execution_count": 27,
     "metadata": {},
     "output_type": "execute_result"
    }
   ],
   "source": [
    "BATCH_SIZE = 256 #change there\n",
    "NUM_EPOCHS = 30\n",
    "TRAIN_DATA = 0.5\n",
    "VAL = 0.2\n",
    "\n",
    "TRAIN_DATA=int (1/TRAIN_DATA)\n",
    "train_data = train_data [::TRAIN_DATA]\n",
    "train_label = train_label [::TRAIN_DATA]\n",
    "print (\"train_data.shape:\",train_data.shape)\n",
    "print (\"train_label.shape:\",train_label.shape)\n",
    "\n",
    "'''\n",
    "BATCH_SIZE = 256 #change there\n",
    "NUM_EPOCHS = 35\n",
    "TRAIN_DATA = 1 \n",
    "VAL = 0.2\n",
    "\n",
    "TRAIN_DATA=int (1/TRAIN_DATA)\n",
    "train_data = train_data [::TRAIN_DATA]\n",
    "train_label = train_label [::TRAIN_DATA]\n",
    "print (\"train_data.shape:\",train_data.shape)\n",
    "print (\"train_label.shape:\",train_label.shape)\n",
    "'''"
   ]
  },
  {
   "cell_type": "code",
   "execution_count": 28,
   "id": "f3ce0f88",
   "metadata": {},
   "outputs": [],
   "source": [
    "def model_NN(input_shape):\n",
    "    X_input = Input(input_shape)\n",
    "    W1 = Flatten()(X_input)\n",
    "#--------------------------------D1--------------------------------------------    \n",
    "    D1 = Dense(512, activation='relu', name='fc1')(W1)   # Hidden layer\n",
    "    #W1 = Dropout(0.5)(W1) \n",
    "#--------------------------------O1--------------------------------------------    \n",
    "    O1 = Dense(10, activation='softmax', name='out')(D1)    \n",
    "    \n",
    "    model_NN = Model(inputs = X_input, outputs = O1 ,name='NN') # spec. input output name\n",
    "    return model_NN"
   ]
  },
  {
   "cell_type": "code",
   "execution_count": 29,
   "id": "9aa134fb",
   "metadata": {},
   "outputs": [
    {
     "name": "stdout",
     "output_type": "stream",
     "text": [
      "_________________________________________________________________\n",
      "Layer (type)                 Output Shape              Param #   \n",
      "=================================================================\n",
      "input_5 (InputLayer)         (None, 28, 28, 1)         0         \n",
      "_________________________________________________________________\n",
      "flatten_5 (Flatten)          (None, 784)               0         \n",
      "_________________________________________________________________\n",
      "fc1 (Dense)                  (None, 512)               401920    \n",
      "_________________________________________________________________\n",
      "out (Dense)                  (None, 10)                5130      \n",
      "=================================================================\n",
      "Total params: 407,050\n",
      "Trainable params: 407,050\n",
      "Non-trainable params: 0\n",
      "_________________________________________________________________\n",
      "None\n"
     ]
    }
   ],
   "source": [
    "#training setup\n",
    "complete_time=time.strftime(\"%Y_%m_%d %H_%M_%S\", time.localtime()) # Record time info.\n",
    "from keras.callbacks import ModelCheckpoint\n",
    "if VAL !=0:\n",
    "    # Training Tips: save best weights during training \n",
    "    checkpoint = ModelCheckpoint(\"model/Best_NN_weights_{epoch:02d}_{val_loss:.2f}.h5\", \n",
    "                                 monitor='val_loss', verbose=0,save_best_only=True, mode='auto', period=1)\n",
    "    \n",
    "NN=model_NN((pixel,pixel,1))\n",
    "\n",
    "NN.compile(loss='categorical_crossentropy',optimizer='adam',metrics=['accuracy'])\n",
    "\n",
    "print(NN.summary()) "
   ]
  },
  {
   "cell_type": "code",
   "execution_count": 30,
   "id": "24ae1f7d",
   "metadata": {
    "scrolled": false
   },
   "outputs": [
    {
     "name": "stdout",
     "output_type": "stream",
     "text": [
      "Train on 2750 samples, validate on 688 samples\n",
      "Epoch 1/30\n",
      "2750/2750 [==============================] - 2s 824us/step - loss: 1.5079 - acc: 0.6222 - val_loss: 0.8334 - val_acc: 0.7951\n",
      "Epoch 2/30\n",
      "2750/2750 [==============================] - 0s 170us/step - loss: 0.6279 - acc: 0.8335 - val_loss: 0.5272 - val_acc: 0.8401\n",
      "Epoch 3/30\n",
      "2750/2750 [==============================] - 1s 182us/step - loss: 0.4419 - acc: 0.8811 - val_loss: 0.4598 - val_acc: 0.8576\n",
      "Epoch 4/30\n",
      "2750/2750 [==============================] - 1s 195us/step - loss: 0.3601 - acc: 0.9051 - val_loss: 0.4249 - val_acc: 0.8648\n",
      "Epoch 5/30\n",
      "2750/2750 [==============================] - 1s 214us/step - loss: 0.3035 - acc: 0.9218 - val_loss: 0.3987 - val_acc: 0.8765\n",
      "Epoch 6/30\n",
      "2750/2750 [==============================] - 1s 189us/step - loss: 0.2670 - acc: 0.9320 - val_loss: 0.3907 - val_acc: 0.8779\n",
      "Epoch 7/30\n",
      "2750/2750 [==============================] - 1s 195us/step - loss: 0.2352 - acc: 0.9404 - val_loss: 0.3734 - val_acc: 0.8808\n",
      "Epoch 8/30\n",
      "2750/2750 [==============================] - 1s 197us/step - loss: 0.2077 - acc: 0.9491 - val_loss: 0.3562 - val_acc: 0.8866\n",
      "Epoch 9/30\n",
      "2750/2750 [==============================] - 0s 181us/step - loss: 0.1838 - acc: 0.9531 - val_loss: 0.3505 - val_acc: 0.8852\n",
      "Epoch 10/30\n",
      "2750/2750 [==============================] - 0s 179us/step - loss: 0.1625 - acc: 0.9604 - val_loss: 0.3402 - val_acc: 0.8866\n",
      "Epoch 11/30\n",
      "2750/2750 [==============================] - 1s 184us/step - loss: 0.1446 - acc: 0.9709 - val_loss: 0.3355 - val_acc: 0.8939\n",
      "Epoch 12/30\n",
      "2750/2750 [==============================] - 1s 198us/step - loss: 0.1311 - acc: 0.9745 - val_loss: 0.3283 - val_acc: 0.8881\n",
      "Epoch 13/30\n",
      "2750/2750 [==============================] - 1s 203us/step - loss: 0.1132 - acc: 0.9822 - val_loss: 0.3213 - val_acc: 0.8939\n",
      "Epoch 14/30\n",
      "2750/2750 [==============================] - 1s 184us/step - loss: 0.1023 - acc: 0.9862 - val_loss: 0.3214 - val_acc: 0.8939\n",
      "Epoch 15/30\n",
      "2750/2750 [==============================] - 1s 207us/step - loss: 0.0918 - acc: 0.9873 - val_loss: 0.3209 - val_acc: 0.8939\n",
      "Epoch 16/30\n",
      "2750/2750 [==============================] - 1s 214us/step - loss: 0.0815 - acc: 0.9880 - val_loss: 0.3112 - val_acc: 0.8939\n",
      "Epoch 17/30\n",
      "2750/2750 [==============================] - 1s 197us/step - loss: 0.0716 - acc: 0.9924 - val_loss: 0.3060 - val_acc: 0.8997\n",
      "Epoch 18/30\n",
      "2750/2750 [==============================] - 1s 182us/step - loss: 0.0632 - acc: 0.9931 - val_loss: 0.3046 - val_acc: 0.9026\n",
      "Epoch 19/30\n",
      "2750/2750 [==============================] - 0s 174us/step - loss: 0.0568 - acc: 0.9942 - val_loss: 0.3050 - val_acc: 0.8968\n",
      "Epoch 20/30\n",
      "2750/2750 [==============================] - 1s 191us/step - loss: 0.0508 - acc: 0.9953 - val_loss: 0.3015 - val_acc: 0.9012\n",
      "Epoch 21/30\n",
      "2750/2750 [==============================] - 1s 194us/step - loss: 0.0458 - acc: 0.9971 - val_loss: 0.3124 - val_acc: 0.9012\n",
      "Epoch 22/30\n",
      "2750/2750 [==============================] - 1s 186us/step - loss: 0.0425 - acc: 0.9975 - val_loss: 0.3023 - val_acc: 0.9012\n",
      "Epoch 23/30\n",
      "2750/2750 [==============================] - 1s 196us/step - loss: 0.0377 - acc: 0.9982 - val_loss: 0.2966 - val_acc: 0.9026\n",
      "Epoch 24/30\n",
      "2750/2750 [==============================] - 1s 210us/step - loss: 0.0340 - acc: 0.9985 - val_loss: 0.3017 - val_acc: 0.9026\n",
      "Epoch 25/30\n",
      "2750/2750 [==============================] - 1s 200us/step - loss: 0.0309 - acc: 0.9985 - val_loss: 0.2977 - val_acc: 0.9055\n",
      "Epoch 26/30\n",
      "2750/2750 [==============================] - 0s 179us/step - loss: 0.0281 - acc: 0.9985 - val_loss: 0.2975 - val_acc: 0.9012\n",
      "Epoch 27/30\n",
      "2750/2750 [==============================] - 1s 189us/step - loss: 0.0256 - acc: 0.9993 - val_loss: 0.2974 - val_acc: 0.9070\n",
      "Epoch 28/30\n",
      "2750/2750 [==============================] - 1s 185us/step - loss: 0.0235 - acc: 0.9996 - val_loss: 0.2981 - val_acc: 0.9084\n",
      "Epoch 29/30\n",
      "2750/2750 [==============================] - 1s 184us/step - loss: 0.0213 - acc: 0.9996 - val_loss: 0.2979 - val_acc: 0.9041\n",
      "Epoch 30/30\n",
      "2750/2750 [==============================] - 0s 181us/step - loss: 0.0197 - acc: 1.0000 - val_loss: 0.2989 - val_acc: 0.9070\n"
     ]
    }
   ],
   "source": [
    "#training\n",
    "\n",
    "if VAL !=0:\n",
    "    NN_train_history=NN.fit(x=train_data,y={\"out\":train_label},validation_split=VAL, epochs=NUM_EPOCHS, \n",
    "                            batch_size=BATCH_SIZE,verbose=1, callbacks=[checkpoint])\n",
    "else:\n",
    "    NN_train_history=NN.fit(x=train_data,y={\"out\":train_label},validation_split=VAL, epochs=NUM_EPOCHS, \n",
    "                            batch_size=BATCH_SIZE,verbose=1)\n",
    "\n",
    "''' \n",
    "NN_train_history=NN.fit(x=train_data,y={\"out\":train_label},validation_split=VAL, epochs=NUM_EPOCHS,\n",
    "                       batch_size=BATCH_SIZE,verbose=1, callbacks=[checkpoint])    \n",
    "'''    \n",
    "\n",
    "complete_time=time.strftime(\"%Y_%m_%d %H_%M_%S\", time.localtime()) "
   ]
  },
  {
   "cell_type": "code",
   "execution_count": 31,
   "id": "1f4c06ac",
   "metadata": {},
   "outputs": [
    {
     "name": "stdout",
     "output_type": "stream",
     "text": [
      "10000/10000 [==============================] - 2s 183us/step\n",
      "Test loss :   0.28968  Test accuracy :  0.91630\n"
     ]
    }
   ],
   "source": [
    "\n",
    "#save_weights\n",
    "NN.save('NN_'+str(complete_time)+'.h5')\n",
    "\n",
    "# In[6]:  score\n",
    "# evaluate test data\n",
    "NN_scores=NN.evaluate(test_data, {\"out\":test_label}, verbose=1)  \n",
    "print('Test loss : ',' {:.5f}'.format(NN_scores[0]),' Test accuracy :',' {:.5f}'.format(NN_scores[1]))"
   ]
  },
  {
   "cell_type": "code",
   "execution_count": 32,
   "id": "8edf759d",
   "metadata": {},
   "outputs": [
    {
     "data": {
      "image/png": "[encoded data removed]",
      "text/plain": [
       "<Figure size 576x216 with 2 Axes>"
      ]
     },
     "metadata": {
      "needs_background": "light"
     },
     "output_type": "display_data"
    }
   ],
   "source": [
    "##plot\n",
    "import matplotlib.pyplot as plt\n",
    "\n",
    "def show_train_history(train_history):\n",
    "    fig=plt.gcf()\n",
    "    fig.set_size_inches(8, 3)\n",
    "    plt.subplot(121)\n",
    "    plt.plot(train_history.history[\"acc\"])\n",
    "    plt.plot(train_history.history[\"val_acc\"])\n",
    "    plt.title(\"Training Accuracy History\")\n",
    "    plt.xlabel(\"Epoch\")\n",
    "    plt.ylabel(\"Accuracy\")\n",
    "    plt.legend([\"train\", \"validation\"], loc=\"upper left\")\n",
    "    plt.subplot(122)\n",
    "    plt.plot(train_history.history[\"loss\"])\n",
    "    plt.plot(train_history.history[\"val_loss\"])\n",
    "    plt.title(\"Training Loss History\")\n",
    "    plt.xlabel(\"Epoch\")\n",
    "    plt.ylabel(\"Loss\")\n",
    "    plt.legend([\"train\", \"validation\"], loc=\"upper left\")\n",
    "    plt.show()\n",
    "def show_train_history_NVAL(train_history):\n",
    "    fig=plt.gcf()\n",
    "    fig.set_size_inches(8, 3)\n",
    "    plt.subplot(121)\n",
    "    plt.plot(train_history.history[\"acc\"])\n",
    "    plt.title(\"Training Accuracy History\")\n",
    "    plt.xlabel(\"Epoch\")\n",
    "    plt.ylabel(\"Accuracy\")\n",
    "    plt.legend([\"train\"], loc=\"upper left\")\n",
    "    plt.subplot(122)\n",
    "    plt.plot(train_history.history[\"loss\"])\n",
    "    plt.title(\"Training Loss History\")\n",
    "    plt.xlabel(\"Epoch\")\n",
    "    plt.ylabel(\"Loss\")\n",
    "    plt.legend([\"train\"], loc=\"upper left\")\n",
    "    plt.show()\n",
    "    \n",
    "if VAL !=0: show_train_history(NN_train_history) \n",
    "else: show_train_history_NVAL(NN_train_history) "
   ]
  },
  {
   "cell_type": "code",
   "execution_count": 33,
   "id": "5959fb47",
   "metadata": {},
   "outputs": [
    {
     "name": "stdout",
     "output_type": "stream",
     "text": [
      "_________________________________________________________________\n",
      "Layer (type)                 Output Shape              Param #   \n",
      "=================================================================\n",
      "input_5 (InputLayer)         (None, 28, 28, 1)         0         \n",
      "_________________________________________________________________\n",
      "flatten_5 (Flatten)          (None, 784)               0         \n",
      "_________________________________________________________________\n",
      "fc1 (Dense)                  (None, 512)               401920    \n",
      "_________________________________________________________________\n",
      "out (Dense)                  (None, 10)                5130      \n",
      "=================================================================\n",
      "Total params: 407,050\n",
      "Trainable params: 407,050\n",
      "Non-trainable params: 0\n",
      "_________________________________________________________________\n",
      "None\n",
      "weights shape : (4,)\n",
      "weights 0 shape : (784, 512)\n",
      "bias 0 shape : (512,)\n",
      "weights 0 shape : (512, 10)\n",
      "bias 0 shape : (10,)\n"
     ]
    }
   ],
   "source": [
    "##info\n",
    "print(NN.summary()) \n",
    "NN_weights = np.array(NN.get_weights(),dtype=object)\n",
    "print('weights shape :',NN_weights.shape)\n",
    "for i in range (0,NN_weights.shape[0],2):\n",
    "    print('weights 0 shape :',NN_weights[i].shape)\n",
    "    print('bias 0 shape :',NN_weights[i+1].shape)  "
   ]
  },
  {
   "cell_type": "code",
   "execution_count": null,
   "id": "fcfc06cd",
   "metadata": {},
   "outputs": [],
   "source": []
  }
 ],
 "metadata": {
  "kernelspec": {
   "display_name": "Python 3",
   "language": "python",
   "name": "python3"
  },
  "language_info": {
   "codemirror_mode": {
    "name": "ipython",
    "version": 3
   },
   "file_extension": ".py",
   "mimetype": "text/x-python",
   "name": "python",
   "nbconvert_exporter": "python",
   "pygments_lexer": "ipython3",
   "version": "3.6.13"
  },
  "toc": {
   "base_numbering": 1,
   "nav_menu": {},
   "number_sections": false,
   "sideBar": true,
   "skip_h1_title": true,
   "title_cell": "Table of Contents",
   "title_sidebar": "Contents",
   "toc_cell": false,
   "toc_position": {},
   "toc_section_display": true,
   "toc_window_display": false
  },
  "varInspector": {
   "cols": {
    "lenName": 16,
    "lenType": 16,
    "lenVar": 40
   },
   "kernels_config": {
    "python": {
     "delete_cmd_postfix": "",
     "delete_cmd_prefix": "del ",
     "library": "var_list.py",
     "varRefreshCmd": "print(var_dic_list())"
    },
    "r": {
     "delete_cmd_postfix": ") ",
     "delete_cmd_prefix": "rm(",
     "library": "var_list.r",
     "varRefreshCmd": "cat(var_dic_list()) "
    }
   },
   "types_to_exclude": [
    "module",
    "function",
    "builtin_function_or_method",
    "instance",
    "_Feature"
   ],
   "window_display": false
  }
 },
 "nbformat": 4,
 "nbformat_minor": 5
}
