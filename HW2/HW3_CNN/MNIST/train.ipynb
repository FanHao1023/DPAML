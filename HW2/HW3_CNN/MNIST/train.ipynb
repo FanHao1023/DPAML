{
 "cells": [
  {
   "cell_type": "code",
   "execution_count": 1,
   "id": "c4677dd6",
   "metadata": {},
   "outputs": [
    {
     "name": "stderr",
     "output_type": "stream",
     "text": [
      "Using TensorFlow backend.\n",
      "C:\\Users\\USER\\anaconda3\\envs\\MNIST\\lib\\site-packages\\tensorflow\\python\\framework\\dtypes.py:526: FutureWarning: Passing (type, 1) or '1type' as a synonym of type is deprecated; in a future version of numpy, it will be understood as (type, (1,)) / '(1,)type'.\n",
      "  _np_qint8 = np.dtype([(\"qint8\", np.int8, 1)])\n",
      "C:\\Users\\USER\\anaconda3\\envs\\MNIST\\lib\\site-packages\\tensorflow\\python\\framework\\dtypes.py:527: FutureWarning: Passing (type, 1) or '1type' as a synonym of type is deprecated; in a future version of numpy, it will be understood as (type, (1,)) / '(1,)type'.\n",
      "  _np_quint8 = np.dtype([(\"quint8\", np.uint8, 1)])\n",
      "C:\\Users\\USER\\anaconda3\\envs\\MNIST\\lib\\site-packages\\tensorflow\\python\\framework\\dtypes.py:528: FutureWarning: Passing (type, 1) or '1type' as a synonym of type is deprecated; in a future version of numpy, it will be understood as (type, (1,)) / '(1,)type'.\n",
      "  _np_qint16 = np.dtype([(\"qint16\", np.int16, 1)])\n",
      "C:\\Users\\USER\\anaconda3\\envs\\MNIST\\lib\\site-packages\\tensorflow\\python\\framework\\dtypes.py:529: FutureWarning: Passing (type, 1) or '1type' as a synonym of type is deprecated; in a future version of numpy, it will be understood as (type, (1,)) / '(1,)type'.\n",
      "  _np_quint16 = np.dtype([(\"quint16\", np.uint16, 1)])\n",
      "C:\\Users\\USER\\anaconda3\\envs\\MNIST\\lib\\site-packages\\tensorflow\\python\\framework\\dtypes.py:530: FutureWarning: Passing (type, 1) or '1type' as a synonym of type is deprecated; in a future version of numpy, it will be understood as (type, (1,)) / '(1,)type'.\n",
      "  _np_qint32 = np.dtype([(\"qint32\", np.int32, 1)])\n",
      "C:\\Users\\USER\\anaconda3\\envs\\MNIST\\lib\\site-packages\\tensorflow\\python\\framework\\dtypes.py:535: FutureWarning: Passing (type, 1) or '1type' as a synonym of type is deprecated; in a future version of numpy, it will be understood as (type, (1,)) / '(1,)type'.\n",
      "  np_resource = np.dtype([(\"resource\", np.ubyte, 1)])\n"
     ]
    }
   ],
   "source": [
    "import os\n",
    "import scipy.io\n",
    "from keras.models import Sequential\n",
    "from keras.layers import Dense\n",
    "import numpy as np\n",
    "from PIL import Image \n",
    "from data import load_new_data, data_convert\n",
    "from keras.layers import Input, Add, Dense, Dropout, Activation, ZeroPadding2D, BatchNormalization, Flatten, Conv2D, AveragePooling2D, MaxPooling2D, GlobalMaxPooling2D,concatenate,Cropping2D\n",
    "from keras.models import Model\n",
    "import time\n",
    "\n",
    "from tensorflow import set_random_seed\n"
   ]
  },
  {
   "cell_type": "code",
   "execution_count": 2,
   "id": "98288984",
   "metadata": {},
   "outputs": [
    {
     "name": "stdout",
     "output_type": "stream",
     "text": [
      "model dir exist\n",
      "data.mat already exist\n"
     ]
    }
   ],
   "source": [
    "\n",
    "pixel=28\n",
    "    \n",
    "if os.path.isdir('model'):\n",
    "    print(\"model dir exist\")\n",
    "else:\n",
    "    print(\"create model dir\")  \n",
    "    os.mkdir('model')\n",
    "    \n",
    "if os.path.isfile('data.mat'):\n",
    "    print ('data.mat already exist')\n",
    "    #data_convert (new_astype='uint8', new_size=pixel)\n",
    "else:\n",
    "    #data_convert (new_astype='uint8', new_size=pixel)\n",
    "    data_convert (new_size=pixel)\n",
    "\n"
   ]
  },
  {
   "cell_type": "code",
   "execution_count": 3,
   "id": "e6a67cb1",
   "metadata": {},
   "outputs": [
    {
     "name": "stdout",
     "output_type": "stream",
     "text": [
      "\n",
      "-----------------check_mat------------------\n",
      "data keys : dict_keys(['__header__', '__version__', '__globals__', 'train_data', 'train_label', 'test_data', 'test_label'])\n",
      "train_data shape : (55000, 28, 28)\n",
      "img pixel type : <class 'numpy.float32'>\n",
      "check_mat train label [0. 0. 0. 0. 1. 0. 0. 0. 0. 0.]\n"
     ]
    },
    {
     "data": {
      "image/png": "[encoded data removed]",
      "text/plain": [
       "<Figure size 432x288 with 1 Axes>"
      ]
     },
     "metadata": {
      "needs_background": "light"
     },
     "output_type": "display_data"
    },
    {
     "name": "stdout",
     "output_type": "stream",
     "text": [
      "train_data.shape: (55000, 28, 28)\n",
      "train_label.shape: (55000, 10)\n",
      "test_data.shape: (10000, 28, 28)\n",
      "test_label.shape: (10000, 10)\n",
      "------------------------------------\n",
      "train_data.shape: (55000, 28, 28, 1)\n",
      "train_label.shape: (55000, 10)\n",
      "test_data.shape: (10000, 28, 28, 1)\n",
      "test_label.shape: (10000, 10)\n"
     ]
    }
   ],
   "source": [
    "\n",
    "train_data,train_label,test_data,test_label=load_new_data(True) # load data from 'data.mat\n",
    "\n",
    "print (\"train_data.shape:\",train_data.shape)\n",
    "print (\"train_label.shape:\",train_label.shape)\n",
    "print (\"test_data.shape:\",test_data.shape)\n",
    "print (\"test_label.shape:\",test_label.shape)\n",
    "\n",
    "train_data=train_data.reshape(train_data.shape[0],pixel,pixel,1) # 三維 to 四維\n",
    "test_data=test_data.reshape(test_data.shape[0],pixel,pixel,1)\n",
    "\n",
    "print (\"------------------------------------\")\n",
    "print (\"train_data.shape:\",train_data.shape)\n",
    "print (\"train_label.shape:\",train_label.shape)\n",
    "print (\"test_data.shape:\",test_data.shape)\n",
    "print (\"test_label.shape:\",test_label.shape)\n",
    "\n",
    "\n",
    "\n",
    "\n",
    "\n",
    "\n",
    "\n",
    "\n",
    "    "
   ]
  },
  {
   "cell_type": "code",
   "execution_count": 19,
   "id": "a19745df",
   "metadata": {},
   "outputs": [
    {
     "name": "stdout",
     "output_type": "stream",
     "text": [
      "train_data.shape: (13750, 28, 28, 1)\n",
      "train_label.shape: (13750, 10)\n"
     ]
    },
    {
     "data": {
      "text/plain": [
       "'\\nBATCH_SIZE = 256 #change there\\nNUM_EPOCHS = 35\\nTRAIN_DATA = 1 \\nVAL = 0.2\\n\\nTRAIN_DATA=int (1/TRAIN_DATA)\\ntrain_data = train_data [::TRAIN_DATA]\\ntrain_label = train_label [::TRAIN_DATA]\\nprint (\"train_data.shape:\",train_data.shape)\\nprint (\"train_label.shape:\",train_label.shape)\\n'"
      ]
     },
     "execution_count": 19,
     "metadata": {},
     "output_type": "execute_result"
    }
   ],
   "source": [
    "\n",
    "# In[2]:   Hyperparameter\n",
    "\n",
    "BATCH_SIZE = 256 #change there\n",
    "NUM_EPOCHS = 15\n",
    "TRAIN_DATA = 0.5\n",
    "VAL = 0.2\n",
    "\n",
    "TRAIN_DATA=int (1/TRAIN_DATA)\n",
    "train_data = train_data [::TRAIN_DATA]\n",
    "train_label = train_label [::TRAIN_DATA]\n",
    "print (\"train_data.shape:\",train_data.shape)\n",
    "print (\"train_label.shape:\",train_label.shape)\n",
    "\n",
    "'''\n",
    "BATCH_SIZE = 256 #change there\n",
    "NUM_EPOCHS = 35\n",
    "TRAIN_DATA = 1 \n",
    "VAL = 0.2\n",
    "\n",
    "TRAIN_DATA=int (1/TRAIN_DATA)\n",
    "train_data = train_data [::TRAIN_DATA]\n",
    "train_label = train_label [::TRAIN_DATA]\n",
    "print (\"train_data.shape:\",train_data.shape)\n",
    "print (\"train_label.shape:\",train_label.shape)\n",
    "'''"
   ]
  },
  {
   "cell_type": "code",
   "execution_count": 5,
   "id": "789c7802",
   "metadata": {},
   "outputs": [],
   "source": [
    "\n",
    "# In[3]:\n",
    "def model_NN(input_shape):\n",
    "    X_input = Input(input_shape)\n",
    "    W1 = Flatten()(X_input)\n",
    "#--------------------------------D1--------------------------------------------    \n",
    "    D1 = Dense(256, activation='relu', name='fc1')(W1) # Hidden layer \n",
    "    # activation can be relu \n",
    "    W1 = Dropout(0.5)(W1) \n",
    "    #D1 = Dense(64, activation='relu', name='fc2')(D1) # Hidden layer \n",
    "#--------------------------------O1--------------------------------------------    \n",
    "    O1 = Dense(10, activation='softmax', name='out')(D1)    \n",
    "    \n",
    "    model_NN = Model(inputs = X_input, outputs = O1 ,name='NN') # spec. input output name\n",
    "    return model_NN\n"
   ]
  },
  {
   "cell_type": "code",
   "execution_count": 6,
   "id": "ffe6f889",
   "metadata": {},
   "outputs": [
    {
     "name": "stdout",
     "output_type": "stream",
     "text": [
      "WARNING:tensorflow:From C:\\Users\\USER\\anaconda3\\envs\\MNIST\\lib\\site-packages\\tensorflow\\python\\framework\\op_def_library.py:263: colocate_with (from tensorflow.python.framework.ops) is deprecated and will be removed in a future version.\n",
      "Instructions for updating:\n",
      "Colocations handled automatically by placer.\n",
      "WARNING:tensorflow:From C:\\Users\\USER\\anaconda3\\envs\\MNIST\\lib\\site-packages\\keras\\backend\\tensorflow_backend.py:3445: calling dropout (from tensorflow.python.ops.nn_ops) with keep_prob is deprecated and will be removed in a future version.\n",
      "Instructions for updating:\n",
      "Please use `rate` instead of `keep_prob`. Rate should be set to `rate = 1 - keep_prob`.\n",
      "_________________________________________________________________\n",
      "Layer (type)                 Output Shape              Param #   \n",
      "=================================================================\n",
      "input_1 (InputLayer)         (None, 28, 28, 1)         0         \n",
      "_________________________________________________________________\n",
      "flatten_1 (Flatten)          (None, 784)               0         \n",
      "_________________________________________________________________\n",
      "fc1 (Dense)                  (None, 256)               200960    \n",
      "_________________________________________________________________\n",
      "out (Dense)                  (None, 10)                2570      \n",
      "=================================================================\n",
      "Total params: 203,530\n",
      "Trainable params: 203,530\n",
      "Non-trainable params: 0\n",
      "_________________________________________________________________\n",
      "None\n"
     ]
    }
   ],
   "source": [
    "\n",
    "# In[4]:  training setup\n",
    "complete_time=time.strftime(\"%Y_%m_%d %H_%M_%S\", time.localtime()) # Record time info.\n",
    "from keras.callbacks import ModelCheckpoint\n",
    "if VAL !=0:\n",
    "    # Training Tips: save best weights during training\n",
    "    checkpoint = ModelCheckpoint(\"model/Best_NN_weights_{epoch:02d}_{val_loss:.2f}.h5\", \n",
    "                                 monitor='val_loss', verbose=0,save_best_only=True, mode='auto', period=1)\n",
    "    \n",
    "NN=model_NN((pixel,pixel,1))\n",
    "\n",
    "NN.compile(loss='categorical_crossentropy',optimizer='adam',metrics=['accuracy'])\n",
    "\n",
    "print(NN.summary()) "
   ]
  },
  {
   "cell_type": "code",
   "execution_count": 7,
   "id": "45b1fbc0",
   "metadata": {
    "scrolled": true
   },
   "outputs": [
    {
     "name": "stdout",
     "output_type": "stream",
     "text": [
      "WARNING:tensorflow:From C:\\Users\\USER\\anaconda3\\envs\\MNIST\\lib\\site-packages\\tensorflow\\python\\ops\\math_ops.py:3066: to_int32 (from tensorflow.python.ops.math_ops) is deprecated and will be removed in a future version.\n",
      "Instructions for updating:\n",
      "Use tf.cast instead.\n",
      "Train on 22000 samples, validate on 5500 samples\n",
      "Epoch 1/50\n",
      "22000/22000 [==============================] - 1s 60us/step - loss: 0.6404 - acc: 0.8252 - val_loss: 0.3521 - val_acc: 0.8964\n",
      "Epoch 2/50\n",
      "22000/22000 [==============================] - 1s 24us/step - loss: 0.3016 - acc: 0.9141 - val_loss: 0.2830 - val_acc: 0.9207\n",
      "Epoch 3/50\n",
      "22000/22000 [==============================] - 0s 22us/step - loss: 0.2388 - acc: 0.9311 - val_loss: 0.2313 - val_acc: 0.9335\n",
      "Epoch 4/50\n",
      "22000/22000 [==============================] - 0s 21us/step - loss: 0.1937 - acc: 0.9446 - val_loss: 0.2051 - val_acc: 0.9376\n",
      "Epoch 5/50\n",
      "22000/22000 [==============================] - 0s 21us/step - loss: 0.1606 - acc: 0.9544 - val_loss: 0.1852 - val_acc: 0.9455\n",
      "Epoch 6/50\n",
      "22000/22000 [==============================] - 1s 38us/step - loss: 0.1370 - acc: 0.9618 - val_loss: 0.1806 - val_acc: 0.9435\n",
      "Epoch 7/50\n",
      "22000/22000 [==============================] - 1s 60us/step - loss: 0.1158 - acc: 0.9673 - val_loss: 0.1644 - val_acc: 0.9515\n",
      "Epoch 8/50\n",
      "22000/22000 [==============================] - 1s 63us/step - loss: 0.0967 - acc: 0.9744 - val_loss: 0.1523 - val_acc: 0.9551\n",
      "Epoch 9/50\n",
      "22000/22000 [==============================] - 1s 62us/step - loss: 0.0838 - acc: 0.9781 - val_loss: 0.1517 - val_acc: 0.9562\n",
      "Epoch 10/50\n",
      "22000/22000 [==============================] - 1s 64us/step - loss: 0.0722 - acc: 0.9814 - val_loss: 0.1419 - val_acc: 0.9560\n",
      "Epoch 11/50\n",
      "22000/22000 [==============================] - 1s 59us/step - loss: 0.0616 - acc: 0.9848 - val_loss: 0.1366 - val_acc: 0.9589\n",
      "Epoch 12/50\n",
      "22000/22000 [==============================] - 1s 57us/step - loss: 0.0540 - acc: 0.9878 - val_loss: 0.1331 - val_acc: 0.9602\n",
      "Epoch 13/50\n",
      "22000/22000 [==============================] - 1s 63us/step - loss: 0.0467 - acc: 0.9901 - val_loss: 0.1357 - val_acc: 0.9602\n",
      "Epoch 14/50\n",
      "22000/22000 [==============================] - 1s 56us/step - loss: 0.0408 - acc: 0.9916 - val_loss: 0.1316 - val_acc: 0.9596\n",
      "Epoch 15/50\n",
      "22000/22000 [==============================] - 1s 61us/step - loss: 0.0354 - acc: 0.9937 - val_loss: 0.1278 - val_acc: 0.9618\n",
      "Epoch 16/50\n",
      "22000/22000 [==============================] - 1s 59us/step - loss: 0.0308 - acc: 0.9950 - val_loss: 0.1266 - val_acc: 0.9620\n",
      "Epoch 17/50\n",
      "22000/22000 [==============================] - 1s 56us/step - loss: 0.0274 - acc: 0.9957 - val_loss: 0.1289 - val_acc: 0.9616\n",
      "Epoch 18/50\n",
      "22000/22000 [==============================] - 1s 60us/step - loss: 0.0240 - acc: 0.9964 - val_loss: 0.1271 - val_acc: 0.9629\n",
      "Epoch 19/50\n",
      "22000/22000 [==============================] - 1s 60us/step - loss: 0.0209 - acc: 0.9969 - val_loss: 0.1277 - val_acc: 0.9631\n",
      "Epoch 20/50\n",
      "22000/22000 [==============================] - 1s 60us/step - loss: 0.0185 - acc: 0.9981 - val_loss: 0.1293 - val_acc: 0.9625\n",
      "Epoch 21/50\n",
      "22000/22000 [==============================] - 1s 56us/step - loss: 0.0165 - acc: 0.9981 - val_loss: 0.1252 - val_acc: 0.9638\n",
      "Epoch 22/50\n",
      "22000/22000 [==============================] - 1s 56us/step - loss: 0.0138 - acc: 0.9990 - val_loss: 0.1273 - val_acc: 0.9649\n",
      "Epoch 23/50\n",
      "22000/22000 [==============================] - 1s 55us/step - loss: 0.0130 - acc: 0.9990 - val_loss: 0.1270 - val_acc: 0.9642\n",
      "Epoch 24/50\n",
      "22000/22000 [==============================] - 1s 55us/step - loss: 0.0117 - acc: 0.9991 - val_loss: 0.1265 - val_acc: 0.9647\n",
      "Epoch 25/50\n",
      "22000/22000 [==============================] - 1s 61us/step - loss: 0.0102 - acc: 0.9994 - val_loss: 0.1299 - val_acc: 0.9640\n",
      "Epoch 26/50\n",
      "22000/22000 [==============================] - 1s 59us/step - loss: 0.0089 - acc: 0.9997 - val_loss: 0.1289 - val_acc: 0.9655\n",
      "Epoch 27/50\n",
      "22000/22000 [==============================] - 1s 61us/step - loss: 0.0080 - acc: 0.9997 - val_loss: 0.1297 - val_acc: 0.9649\n",
      "Epoch 28/50\n",
      "22000/22000 [==============================] - 1s 60us/step - loss: 0.0070 - acc: 0.9998 - val_loss: 0.1320 - val_acc: 0.9644\n",
      "Epoch 29/50\n",
      "22000/22000 [==============================] - 1s 66us/step - loss: 0.0068 - acc: 0.9998 - val_loss: 0.1296 - val_acc: 0.9656\n",
      "Epoch 30/50\n",
      "22000/22000 [==============================] - 1s 58us/step - loss: 0.0060 - acc: 0.9998 - val_loss: 0.1308 - val_acc: 0.9655\n",
      "Epoch 31/50\n",
      "22000/22000 [==============================] - 1s 59us/step - loss: 0.0053 - acc: 0.9999 - val_loss: 0.1317 - val_acc: 0.9653\n",
      "Epoch 32/50\n",
      "22000/22000 [==============================] - 1s 66us/step - loss: 0.0049 - acc: 0.9999 - val_loss: 0.1324 - val_acc: 0.9671\n",
      "Epoch 33/50\n",
      "22000/22000 [==============================] - 1s 59us/step - loss: 0.0044 - acc: 1.0000 - val_loss: 0.1330 - val_acc: 0.9658\n",
      "Epoch 34/50\n",
      "22000/22000 [==============================] - 1s 57us/step - loss: 0.0040 - acc: 1.0000 - val_loss: 0.1348 - val_acc: 0.9662\n",
      "Epoch 35/50\n",
      "22000/22000 [==============================] - 1s 57us/step - loss: 0.0038 - acc: 1.0000 - val_loss: 0.1349 - val_acc: 0.9660\n",
      "Epoch 36/50\n",
      "22000/22000 [==============================] - 1s 61us/step - loss: 0.0034 - acc: 1.0000 - val_loss: 0.1352 - val_acc: 0.9665\n",
      "Epoch 37/50\n",
      "22000/22000 [==============================] - 1s 64us/step - loss: 0.0031 - acc: 1.0000 - val_loss: 0.1362 - val_acc: 0.9665\n",
      "Epoch 38/50\n",
      "22000/22000 [==============================] - 1s 60us/step - loss: 0.0030 - acc: 1.0000 - val_loss: 0.1370 - val_acc: 0.9656\n",
      "Epoch 39/50\n",
      "22000/22000 [==============================] - 1s 63us/step - loss: 0.0027 - acc: 1.0000 - val_loss: 0.1371 - val_acc: 0.9667\n",
      "Epoch 40/50\n",
      "22000/22000 [==============================] - 1s 60us/step - loss: 0.0025 - acc: 1.0000 - val_loss: 0.1393 - val_acc: 0.9662\n",
      "Epoch 41/50\n",
      "22000/22000 [==============================] - 1s 60us/step - loss: 0.0023 - acc: 1.0000 - val_loss: 0.1379 - val_acc: 0.9664\n",
      "Epoch 42/50\n",
      "22000/22000 [==============================] - 1s 62us/step - loss: 0.0021 - acc: 1.0000 - val_loss: 0.1394 - val_acc: 0.9664\n",
      "Epoch 43/50\n",
      "22000/22000 [==============================] - 1s 61us/step - loss: 0.0020 - acc: 1.0000 - val_loss: 0.1403 - val_acc: 0.9660\n",
      "Epoch 44/50\n",
      "22000/22000 [==============================] - 1s 63us/step - loss: 0.0019 - acc: 1.0000 - val_loss: 0.1406 - val_acc: 0.9671\n",
      "Epoch 45/50\n",
      "22000/22000 [==============================] - 1s 57us/step - loss: 0.0017 - acc: 1.0000 - val_loss: 0.1421 - val_acc: 0.9669\n",
      "Epoch 46/50\n",
      "22000/22000 [==============================] - 1s 63us/step - loss: 0.0016 - acc: 1.0000 - val_loss: 0.1430 - val_acc: 0.9665\n",
      "Epoch 47/50\n",
      "22000/22000 [==============================] - 1s 58us/step - loss: 0.0016 - acc: 1.0000 - val_loss: 0.1445 - val_acc: 0.9676\n",
      "Epoch 48/50\n",
      "22000/22000 [==============================] - 1s 66us/step - loss: 0.0014 - acc: 1.0000 - val_loss: 0.1440 - val_acc: 0.9671\n",
      "Epoch 49/50\n",
      "22000/22000 [==============================] - 1s 64us/step - loss: 0.0013 - acc: 1.0000 - val_loss: 0.1454 - val_acc: 0.9673\n",
      "Epoch 50/50\n",
      "22000/22000 [==============================] - 1s 61us/step - loss: 0.0012 - acc: 1.0000 - val_loss: 0.1453 - val_acc: 0.9669\n"
     ]
    }
   ],
   "source": [
    "# In[4]:  training\n",
    "\n",
    "if VAL !=0:\n",
    "    NN_train_history=NN.fit(x=train_data,y={\"out\":train_label},validation_split=VAL, epochs=NUM_EPOCHS,\n",
    "                       batch_size=BATCH_SIZE,verbose=1, callbacks=[checkpoint])\n",
    "else:\n",
    "    NN_train_history=NN.fit(x=train_data,y={\"out\":train_label},validation_split=VAL, epochs=NUM_EPOCHS,\n",
    "                       batch_size=BATCH_SIZE,verbose=1)\n",
    "''' \n",
    "NN_train_history=NN.fit(x=train_data,y={\"out\":train_label},validation_split=VAL, epochs=NUM_EPOCHS,\n",
    "                       batch_size=BATCH_SIZE,verbose=1, callbacks=[checkpoint])    \n",
    "'''    \n",
    "complete_time=time.strftime(\"%Y_%m_%d %H_%M_%S\", time.localtime()) "
   ]
  },
  {
   "cell_type": "code",
   "execution_count": 17,
   "id": "58afe5e7",
   "metadata": {},
   "outputs": [
    {
     "name": "stdout",
     "output_type": "stream",
     "text": [
      "10000/10000 [==============================] - 0s 48us/step\n",
      "Test loss :   0.11949  Test accuracy :  0.97200\n"
     ]
    }
   ],
   "source": [
    "# In[5]:  save_weights\n",
    "NN.save('NN_'+str(complete_time)+'.h5')\n",
    "\n",
    "# In[6]:  score\n",
    "# evaluate test data\n",
    "NN_scores=NN.evaluate(test_data, {\"out\":test_label}, verbose=1)  \n",
    "print('Test loss : ',' {:.5f}'.format(NN_scores[0]),' Test accuracy :',' {:.5f}'.format(NN_scores[1]))\n",
    "\n"
   ]
  },
  {
   "cell_type": "code",
   "execution_count": 9,
   "id": "c48d75cc",
   "metadata": {},
   "outputs": [
    {
     "data": {
      "image/png": "[encoded data removed]",
      "text/plain": [
       "<Figure size 576x216 with 2 Axes>"
      ]
     },
     "metadata": {
      "needs_background": "light"
     },
     "output_type": "display_data"
    }
   ],
   "source": [
    "\n",
    "# In[6]: plot\n",
    "import matplotlib.pyplot as plt\n",
    "\n",
    "def show_train_history(train_history):\n",
    "    fig=plt.gcf()\n",
    "    fig.set_size_inches(8, 3)\n",
    "    plt.subplot(121)\n",
    "    plt.plot(train_history.history[\"acc\"])\n",
    "    plt.plot(train_history.history[\"val_acc\"])\n",
    "    plt.title(\"Training Accuracy History\")\n",
    "    plt.xlabel(\"Epoch\")\n",
    "    plt.ylabel(\"Accuracy\")\n",
    "    plt.legend([\"train\", \"validation\"], loc=\"upper left\")\n",
    "    plt.subplot(122)\n",
    "    plt.plot(train_history.history[\"loss\"])\n",
    "    plt.plot(train_history.history[\"val_loss\"])\n",
    "    plt.title(\"Training Loss History\")\n",
    "    plt.xlabel(\"Epoch\")\n",
    "    plt.ylabel(\"Loss\")\n",
    "    plt.legend([\"train\", \"validation\"], loc=\"upper left\")\n",
    "    plt.show()\n",
    "def show_train_history_NVAL(train_history):\n",
    "    fig=plt.gcf()\n",
    "    fig.set_size_inches(8, 3)\n",
    "    plt.subplot(121)\n",
    "    plt.plot(train_history.history[\"acc\"])\n",
    "    plt.title(\"Training Accuracy History\")\n",
    "    plt.xlabel(\"Epoch\")\n",
    "    plt.ylabel(\"Accuracy\")\n",
    "    plt.legend([\"train\"], loc=\"upper left\")\n",
    "    plt.subplot(122)\n",
    "    plt.plot(train_history.history[\"loss\"])\n",
    "    plt.title(\"Training Loss History\")\n",
    "    plt.xlabel(\"Epoch\")\n",
    "    plt.ylabel(\"Loss\")\n",
    "    plt.legend([\"train\"], loc=\"upper left\")\n",
    "    plt.show()\n",
    "    \n",
    "if VAL !=0: show_train_history(NN_train_history) \n",
    "else: show_train_history_NVAL(NN_train_history) \n"
   ]
  },
  {
   "cell_type": "code",
   "execution_count": 20,
   "id": "50c72252",
   "metadata": {},
   "outputs": [
    {
     "name": "stdout",
     "output_type": "stream",
     "text": [
      "_________________________________________________________________\n",
      "Layer (type)                 Output Shape              Param #   \n",
      "=================================================================\n",
      "input_1 (InputLayer)         (None, 28, 28, 1)         0         \n",
      "_________________________________________________________________\n",
      "flatten_1 (Flatten)          (None, 784)               0         \n",
      "_________________________________________________________________\n",
      "fc1 (Dense)                  (None, 256)               200960    \n",
      "_________________________________________________________________\n",
      "out (Dense)                  (None, 10)                2570      \n",
      "=================================================================\n",
      "Total params: 203,530\n",
      "Trainable params: 203,530\n",
      "Non-trainable params: 0\n",
      "_________________________________________________________________\n",
      "None\n",
      "weights shape : (4,)\n",
      "weights 0 shape : (784, 256)\n",
      "bias 0 shape : (256,)\n",
      "weights 0 shape : (256, 10)\n",
      "bias 0 shape : (10,)\n",
      "\n",
      "\n",
      "\n",
      "#######################################################\n",
      "          Convolutional neural network (CNN)           \n",
      "#######################################################\n",
      "\n",
      "\n",
      "\n"
     ]
    }
   ],
   "source": [
    "\n",
    "# In[6]: info\n",
    "print(NN.summary()) \n",
    "NN_weights = np.array(NN.get_weights(),dtype=object)\n",
    "print('weights shape :',NN_weights.shape)\n",
    "for i in range (0,NN_weights.shape[0],2):\n",
    "    print('weights 0 shape :',NN_weights[i].shape)\n",
    "    print('bias 0 shape :',NN_weights[i+1].shape)  \n",
    "# In[6]: info\n",
    "print ('\\n\\n')\n",
    "print ('#######################################################')\n",
    "print ('          Convolutional neural network (CNN)           ')\n",
    "print ('#######################################################')\n",
    "print ('\\n\\n')"
   ]
  },
  {
   "cell_type": "code",
   "execution_count": 21,
   "id": "f6a18ff9",
   "metadata": {},
   "outputs": [],
   "source": [
    "##CNN\n",
    "def model_CNN(input_shape):\n",
    "     X_input = Input(input_shape)\n",
    "\n",
    " #--------------------------------W1-------------------------------------------- \n",
    "     W1 = Conv2D(8, (5, 5), strides = (1, 1), activation = 'relu', name = 'conv1',padding='same')(X_input)\n",
    "     W1 = MaxPooling2D((2, 2), name='max_pool1_W1')(W1)\n",
    "     W1 = Conv2D(16, (3, 3), strides = (1, 1), activation = 'relu', name = 'conv2')(W1)\n",
    "\n",
    " #--------------------------------W3--------------------------------------------         \n",
    "     W1 = Flatten()(W1)  \n",
    "     W1 = Dropout(0.25)(W1)   \n",
    " #--------------------------------D1--------------------------------------------\n",
    "     D1 = Dense(128, activation='relu', name='fc2')(W1)\n",
    " #--------------------------------O1--------------------------------------------    \n",
    "     O1 = Dense(10, activation='softmax', name='out')(D1)    \n",
    "     \n",
    "     model_CNN = Model(inputs = X_input, outputs = O1 ,name='NN')\n",
    "     return model_CNN"
   ]
  },
  {
   "cell_type": "code",
   "execution_count": 22,
   "id": "0d3caa96",
   "metadata": {},
   "outputs": [
    {
     "name": "stdout",
     "output_type": "stream",
     "text": [
      "_________________________________________________________________\n",
      "Layer (type)                 Output Shape              Param #   \n",
      "=================================================================\n",
      "input_3 (InputLayer)         (None, 28, 28, 1)         0         \n",
      "_________________________________________________________________\n",
      "conv1 (Conv2D)               (None, 28, 28, 8)         208       \n",
      "_________________________________________________________________\n",
      "max_pool1_W1 (MaxPooling2D)  (None, 14, 14, 8)         0         \n",
      "_________________________________________________________________\n",
      "conv2 (Conv2D)               (None, 12, 12, 16)        1168      \n",
      "_________________________________________________________________\n",
      "flatten_3 (Flatten)          (None, 2304)              0         \n",
      "_________________________________________________________________\n",
      "dropout_3 (Dropout)          (None, 2304)              0         \n",
      "_________________________________________________________________\n",
      "fc2 (Dense)                  (None, 128)               295040    \n",
      "_________________________________________________________________\n",
      "out (Dense)                  (None, 10)                1290      \n",
      "=================================================================\n",
      "Total params: 297,706\n",
      "Trainable params: 297,706\n",
      "Non-trainable params: 0\n",
      "_________________________________________________________________\n",
      "None\n"
     ]
    }
   ],
   "source": [
    "# In[4]:  training setup\n",
    "from keras.callbacks import ModelCheckpoint\n",
    "complete_time=time.strftime(\"%Y_%m_%d %H_%M_%S\", time.localtime()) \n",
    "if VAL !=0:\n",
    "    checkpoint = ModelCheckpoint(\"model/Best_CNN_weights_{epoch:02d}_{val_loss:.2f}.h5\", \n",
    "                                 monitor='val_loss', verbose=0,save_best_only=True, mode='auto', period=1)\n",
    "\n",
    "CNN=model_CNN((pixel,pixel,1))\n",
    "print(CNN.summary()) "
   ]
  },
  {
   "cell_type": "code",
   "execution_count": 23,
   "id": "4f87dcf4",
   "metadata": {
    "scrolled": false
   },
   "outputs": [
    {
     "name": "stdout",
     "output_type": "stream",
     "text": [
      "Train on 11000 samples, validate on 2750 samples\n",
      "Epoch 1/15\n",
      "11000/11000 [==============================] - 5s 448us/step - loss: 1.0735 - acc: 0.7155 - val_loss: 0.4033 - val_acc: 0.8804\n",
      "Epoch 2/15\n",
      "11000/11000 [==============================] - 4s 371us/step - loss: 0.3233 - acc: 0.8995 - val_loss: 0.2495 - val_acc: 0.9305\n",
      "Epoch 3/15\n",
      "11000/11000 [==============================] - 4s 336us/step - loss: 0.2076 - acc: 0.9374 - val_loss: 0.2064 - val_acc: 0.9335\n",
      "Epoch 4/15\n",
      "11000/11000 [==============================] - 4s 345us/step - loss: 0.1632 - acc: 0.9508 - val_loss: 0.1637 - val_acc: 0.9498\n",
      "Epoch 5/15\n",
      "11000/11000 [==============================] - 4s 336us/step - loss: 0.1369 - acc: 0.9555 - val_loss: 0.1346 - val_acc: 0.9571\n",
      "Epoch 6/15\n",
      "11000/11000 [==============================] - 4s 355us/step - loss: 0.1115 - acc: 0.9643 - val_loss: 0.1251 - val_acc: 0.9618\n",
      "Epoch 7/15\n",
      "11000/11000 [==============================] - 4s 358us/step - loss: 0.0996 - acc: 0.9699 - val_loss: 0.1199 - val_acc: 0.9651\n",
      "Epoch 8/15\n",
      "11000/11000 [==============================] - 4s 339us/step - loss: 0.0894 - acc: 0.9725 - val_loss: 0.1163 - val_acc: 0.9636\n",
      "Epoch 9/15\n",
      "11000/11000 [==============================] - 4s 351us/step - loss: 0.0757 - acc: 0.9764 - val_loss: 0.1101 - val_acc: 0.9644\n",
      "Epoch 10/15\n",
      "11000/11000 [==============================] - 4s 352us/step - loss: 0.0679 - acc: 0.9786 - val_loss: 0.1056 - val_acc: 0.9669\n",
      "Epoch 11/15\n",
      "11000/11000 [==============================] - 4s 354us/step - loss: 0.0643 - acc: 0.9796 - val_loss: 0.1026 - val_acc: 0.9698\n",
      "Epoch 12/15\n",
      "11000/11000 [==============================] - 3s 315us/step - loss: 0.0563 - acc: 0.9834 - val_loss: 0.1076 - val_acc: 0.9669\n",
      "Epoch 13/15\n",
      "11000/11000 [==============================] - 3s 292us/step - loss: 0.0502 - acc: 0.9852 - val_loss: 0.1067 - val_acc: 0.9665\n",
      "Epoch 14/15\n",
      "11000/11000 [==============================] - 4s 354us/step - loss: 0.0500 - acc: 0.9841 - val_loss: 0.1031 - val_acc: 0.9691\n",
      "Epoch 15/15\n",
      "11000/11000 [==============================] - 4s 385us/step - loss: 0.0422 - acc: 0.9866 - val_loss: 0.1042 - val_acc: 0.9687\n",
      "_________________________________________________________________\n",
      "Layer (type)                 Output Shape              Param #   \n",
      "=================================================================\n",
      "input_3 (InputLayer)         (None, 28, 28, 1)         0         \n",
      "_________________________________________________________________\n",
      "conv1 (Conv2D)               (None, 28, 28, 8)         208       \n",
      "_________________________________________________________________\n",
      "max_pool1_W1 (MaxPooling2D)  (None, 14, 14, 8)         0         \n",
      "_________________________________________________________________\n",
      "conv2 (Conv2D)               (None, 12, 12, 16)        1168      \n",
      "_________________________________________________________________\n",
      "flatten_3 (Flatten)          (None, 2304)              0         \n",
      "_________________________________________________________________\n",
      "dropout_3 (Dropout)          (None, 2304)              0         \n",
      "_________________________________________________________________\n",
      "fc2 (Dense)                  (None, 128)               295040    \n",
      "_________________________________________________________________\n",
      "out (Dense)                  (None, 10)                1290      \n",
      "=================================================================\n",
      "Total params: 297,706\n",
      "Trainable params: 297,706\n",
      "Non-trainable params: 0\n",
      "_________________________________________________________________\n",
      "None\n",
      "weights shape : (8,)\n",
      "weights 0 shape : (5, 5, 1, 8)\n",
      "bias 0 shape : (8,)\n",
      "weights 0 shape : (3, 3, 8, 16)\n",
      "bias 0 shape : (16,)\n",
      "weights 0 shape : (2304, 128)\n",
      "bias 0 shape : (128,)\n",
      "weights 0 shape : (128, 10)\n",
      "bias 0 shape : (10,)\n"
     ]
    }
   ],
   "source": [
    "# In[4]:  training\n",
    "CNN.compile(loss='categorical_crossentropy',optimizer='adam',metrics=['accuracy'])\n",
    "if VAL !=0:\n",
    "    CNN_train_history=CNN.fit(x=train_data,y={\"out\":train_label},validation_split=VAL, epochs=NUM_EPOCHS,\n",
    "                       batch_size=BATCH_SIZE,verbose=1, callbacks=[checkpoint])\n",
    "else:\n",
    "    CNN_train_history=CNN.fit(x=train_data,y={\"out\":train_label},validation_split=VAL, epochs=NUM_EPOCHS,\n",
    "                       batch_size=BATCH_SIZE,verbose=1)\n",
    "'''    \n",
    "CNN_train_history=CNN.fit(x=train_data,y={\"out\":train_label},validation_split=VAL, epochs=NUM_EPOCHS,\n",
    "                       batch_size=BATCH_SIZE,verbose=1, callbacks=[checkpoint])\n",
    "'''\n",
    "complete_time=time.strftime(\"%Y_%m_%d %H_%M_%S\", time.localtime()) \n",
    "# In[6]: info\n",
    "print(CNN.summary()) \n",
    "CNN_weights = np.array(CNN.get_weights(),dtype=object)\n",
    "print('weights shape :',CNN_weights.shape)\n",
    "for i in range (0,CNN_weights.shape[0],2):\n",
    "    print('weights 0 shape :',CNN_weights[i].shape)\n",
    "    print('bias 0 shape :',CNN_weights[i+1].shape)  \n"
   ]
  },
  {
   "cell_type": "code",
   "execution_count": 14,
   "id": "76ee7bf7",
   "metadata": {},
   "outputs": [],
   "source": [
    "# In[5]:  save_weights\n",
    "CNN.save('CNN_'+str(complete_time)+'.h5')\n"
   ]
  },
  {
   "cell_type": "code",
   "execution_count": 24,
   "id": "68d42a38",
   "metadata": {},
   "outputs": [
    {
     "name": "stdout",
     "output_type": "stream",
     "text": [
      "Test loss :   0.07275  Test accuracy :  0.97620\n"
     ]
    },
    {
     "data": {
      "image/png": "[encoded data removed]",
      "text/plain": [
       "<Figure size 576x216 with 2 Axes>"
      ]
     },
     "metadata": {
      "needs_background": "light"
     },
     "output_type": "display_data"
    }
   ],
   "source": [
    "\n",
    "# In[6]:  score\n",
    "CNN_scores=CNN.evaluate(test_data, {\"out\":test_label}, verbose=0)  \n",
    "print('Test loss : ',' {:.5f}'.format(CNN_scores[0]),' Test accuracy :',' {:.5f}'.format(CNN_scores[1]))\n",
    "\n",
    "if VAL !=0: show_train_history(CNN_train_history) \n",
    "else: show_train_history_NVAL(CNN_train_history) \n",
    "\n"
   ]
  },
  {
   "cell_type": "code",
   "execution_count": 16,
   "id": "a238e76c",
   "metadata": {},
   "outputs": [
    {
     "name": "stdout",
     "output_type": "stream",
     "text": [
      "\n",
      "\n",
      "\n",
      "#######################################################\n",
      "                       SUMMARY                         \n",
      "#######################################################\n",
      "\n",
      "\n",
      "\n",
      "/-------------------------------------------------------\n",
      "NN.summary():\n",
      "_________________________________________________________________\n",
      "Layer (type)                 Output Shape              Param #   \n",
      "=================================================================\n",
      "input_1 (InputLayer)         (None, 28, 28, 1)         0         \n",
      "_________________________________________________________________\n",
      "flatten_1 (Flatten)          (None, 784)               0         \n",
      "_________________________________________________________________\n",
      "fc1 (Dense)                  (None, 256)               200960    \n",
      "_________________________________________________________________\n",
      "out (Dense)                  (None, 10)                2570      \n",
      "=================================================================\n",
      "Total params: 203,530\n",
      "Trainable params: 203,530\n",
      "Non-trainable params: 0\n",
      "_________________________________________________________________\n",
      "None\n",
      "\n",
      "\n",
      "\n",
      "/-------------------------------------------------------\n",
      "CNN.summary():\n",
      "_________________________________________________________________\n",
      "Layer (type)                 Output Shape              Param #   \n",
      "=================================================================\n",
      "input_2 (InputLayer)         (None, 28, 28, 1)         0         \n",
      "_________________________________________________________________\n",
      "conv1 (Conv2D)               (None, 28, 28, 8)         208       \n",
      "_________________________________________________________________\n",
      "max_pool1_W1 (MaxPooling2D)  (None, 14, 14, 8)         0         \n",
      "_________________________________________________________________\n",
      "conv2 (Conv2D)               (None, 12, 12, 16)        1168      \n",
      "_________________________________________________________________\n",
      "flatten_2 (Flatten)          (None, 2304)              0         \n",
      "_________________________________________________________________\n",
      "dropout_2 (Dropout)          (None, 2304)              0         \n",
      "_________________________________________________________________\n",
      "fc2 (Dense)                  (None, 128)               295040    \n",
      "_________________________________________________________________\n",
      "out (Dense)                  (None, 10)                1290      \n",
      "=================================================================\n",
      "Total params: 297,706\n",
      "Trainable params: 297,706\n",
      "Non-trainable params: 0\n",
      "_________________________________________________________________\n",
      "None\n",
      "\n",
      "\n",
      "\n",
      "/-------------------------------------------------------\n",
      "NN Test loss :   0.11949  NN Test accuracy :  0.97200\n",
      "CNN Test loss :   0.06075  CNN Test accuracy :  0.98610\n",
      "\n",
      "\n",
      "\n",
      "/-------------------------------------------------------\n"
     ]
    },
    {
     "data": {
      "image/png": "[encoded data removed]",
      "text/plain": [
       "<Figure size 576x216 with 2 Axes>"
      ]
     },
     "metadata": {
      "needs_background": "light"
     },
     "output_type": "display_data"
    }
   ],
   "source": [
    "\n",
    "    \n",
    "# In[6]: Comparison   \n",
    "print ('\\n\\n')\n",
    "print ('#######################################################')\n",
    "print ('                       SUMMARY                         ')\n",
    "print ('#######################################################')\n",
    "print ('\\n\\n')\n",
    "\n",
    "print ('/-------------------------------------------------------')\n",
    "print ('NN.summary():')\n",
    "print (NN.summary()) \n",
    "print ('\\n\\n')\n",
    "print ('/-------------------------------------------------------')\n",
    "print ('CNN.summary():')\n",
    "print (CNN.summary()) \n",
    "print ('\\n\\n')\n",
    "print ('/-------------------------------------------------------')\n",
    "print('NN Test loss : ',' {:.5f}'.format(NN_scores[0]),' NN Test accuracy :',' {:.5f}'.format(NN_scores[1]))\n",
    "print('CNN Test loss : ',' {:.5f}'.format(CNN_scores[0]),' CNN Test accuracy :',' {:.5f}'.format(CNN_scores[1]))\n",
    "print ('\\n\\n')\n",
    "print ('/-------------------------------------------------------')\n",
    "def Comparison_train_history(NN,CNN):\n",
    "    fig=plt.gcf()\n",
    "    fig.set_size_inches(8, 3)\n",
    "    plt.subplot(121)\n",
    "    plt.plot(NN.history[\"acc\"])\n",
    "    plt.plot(NN.history[\"val_acc\"])\n",
    "    plt.plot(CNN.history[\"acc\"])\n",
    "    plt.plot(CNN.history[\"val_acc\"])\n",
    "    plt.title(\"Training Accuracy History\")\n",
    "    plt.xlabel(\"Epoch\")\n",
    "    plt.ylabel(\"Accuracy\")\n",
    "    plt.legend([\"NN_train\", \"NN_validation\",\"CNN_train\", \"CNN_validation\"], loc=\"upper left\")\n",
    "    plt.subplot(122)\n",
    "    plt.plot(NN.history[\"loss\"])\n",
    "    plt.plot(NN.history[\"val_loss\"])\n",
    "    plt.plot(CNN.history[\"loss\"])\n",
    "    plt.plot(CNN.history[\"val_loss\"])\n",
    "    plt.title(\"Training Loss History\")\n",
    "    plt.xlabel(\"Epoch\")\n",
    "    plt.ylabel(\"Loss\")\n",
    "    plt.legend([\"NN_train\", \"NN_validation\",\"CNN_train\", \"CNN_validation\"], loc=\"upper left\")\n",
    "    plt.show()\n",
    "def Comparison_train_history_NVAL(NN,CNN):\n",
    "    fig=plt.gcf()\n",
    "    fig.set_size_inches(8, 3)\n",
    "    plt.subplot(121)\n",
    "    plt.plot(NN.history[\"acc\"])\n",
    "    plt.plot(CNN.history[\"acc\"])\n",
    "    plt.title(\"Training Accuracy History\")\n",
    "    plt.xlabel(\"Epoch\")\n",
    "    plt.ylabel(\"Accuracy\")\n",
    "    plt.legend([\"NN_train\",\"CNN_train\"], loc=\"upper left\")\n",
    "    plt.subplot(122)\n",
    "    plt.plot(NN.history[\"loss\"])\n",
    "    plt.plot(CNN.history[\"loss\"])\n",
    "    plt.title(\"Training Loss History\")\n",
    "    plt.xlabel(\"Epoch\")\n",
    "    plt.ylabel(\"Loss\")\n",
    "    plt.legend([\"NN_train\",\"CNN_train\"], loc=\"upper left\")\n",
    "    plt.show()\n",
    "\n",
    "if VAL !=0: Comparison_train_history(NN_train_history,CNN_train_history)\n",
    "else: Comparison_train_history_NVAL(NN_train_history,CNN_train_history)"
   ]
  }
 ],
 "metadata": {
  "kernelspec": {
   "display_name": "Python 3",
   "language": "python",
   "name": "python3"
  },
  "language_info": {
   "codemirror_mode": {
    "name": "ipython",
    "version": 3
   },
   "file_extension": ".py",
   "mimetype": "text/x-python",
   "name": "python",
   "nbconvert_exporter": "python",
   "pygments_lexer": "ipython3",
   "version": "3.6.13"
  },
  "toc": {
   "base_numbering": 1,
   "nav_menu": {},
   "number_sections": false,
   "sideBar": true,
   "skip_h1_title": true,
   "title_cell": "Table of Contents",
   "title_sidebar": "Contents",
   "toc_cell": false,
   "toc_position": {},
   "toc_section_display": true,
   "toc_window_display": false
  },
  "varInspector": {
   "cols": {
    "lenName": 16,
    "lenType": 16,
    "lenVar": 40
   },
   "kernels_config": {
    "python": {
     "delete_cmd_postfix": "",
     "delete_cmd_prefix": "del ",
     "library": "var_list.py",
     "varRefreshCmd": "print(var_dic_list())"
    },
    "r": {
     "delete_cmd_postfix": ") ",
     "delete_cmd_prefix": "rm(",
     "library": "var_list.r",
     "varRefreshCmd": "cat(var_dic_list()) "
    }
   },
   "types_to_exclude": [
    "module",
    "function",
    "builtin_function_or_method",
    "instance",
    "_Feature"
   ],
   "window_display": false
  }
 },
 "nbformat": 4,
 "nbformat_minor": 5
}
