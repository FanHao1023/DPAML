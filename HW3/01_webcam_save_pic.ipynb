{
 "cells": [
  {
   "cell_type": "code",
   "execution_count": 7,
   "id": "815ebb97",
   "metadata": {},
   "outputs": [],
   "source": [
    "import cv2\n",
    "import os"
   ]
  },
  {
   "cell_type": "code",
   "execution_count": 8,
   "id": "97fef5b8",
   "metadata": {},
   "outputs": [
    {
     "data": {
      "text/plain": [
       "True"
      ]
     },
     "execution_count": 8,
     "metadata": {},
     "output_type": "execute_result"
    }
   ],
   "source": [
    "# 選擇第攝影機\n",
    "cap = cv2.VideoCapture(0)\n",
    "# 設定影像的尺寸大小\n",
    "cap.set(cv2.CAP_PROP_FRAME_WIDTH, 640)\n",
    "cap.set(cv2.CAP_PROP_FRAME_HEIGHT, 480)\n"
   ]
  },
  {
   "cell_type": "code",
   "execution_count": 9,
   "id": "30d72656",
   "metadata": {},
   "outputs": [],
   "source": [
    "# 讀取資料夾資訊\n",
    "file_path = os.getcwd() + '\\\\output'\n",
    "all_file = os.listdir(file_path)\n",
    "pic_num = len(all_file)\n",
    "\n",
    "# 擷取速度設定\n",
    "frame_interval = 10\n",
    "frame_count = 0"
   ]
  },
  {
   "cell_type": "code",
   "execution_count": 10,
   "id": "3f10423b",
   "metadata": {},
   "outputs": [],
   "source": [
    "while(True):\n",
    "    # 從攝影機擷取一張影像\n",
    "    ret, frame = cap.read()\n",
    "    \n",
    "    # 計算間格\n",
    "    frame_count = frame_count + 1\n",
    "    remainder = frame_count % frame_interval\n",
    "    if remainder == 0:\n",
    "        # 決定儲存圖片路徑與名稱\n",
    "        pic_num = pic_num + 1\n",
    "        output_path = file_path + '\\\\pic_' + str(pic_num) + '.jpg'\n",
    "        # 儲存圖片\n",
    "        cv2.imwrite(output_path, frame)\n",
    "        # 拍照閃光效果，視覺輔助用\n",
    "        #frame = cv2.convertScaleAbs(frame, alpha = 1, beta = 128)\n",
    "        \n",
    "    # 顯示圖片\n",
    "    cv2.imshow('frame', frame)\n",
    "    \n",
    "    # 若按下 q 鍵則離開迴圈\n",
    "    if cv2.waitKey(1) & 0xFF == ord('q'):\n",
    "        break\n",
    "\n",
    "# 釋放攝影機\n",
    "cap.release()\n",
    "\n",
    "# 關閉所有 OpenCV 視窗\n",
    "cv2.destroyAllWindows()"
   ]
  },
  {
   "cell_type": "code",
   "execution_count": null,
   "id": "19414c22",
   "metadata": {},
   "outputs": [],
   "source": []
  }
 ],
 "metadata": {
  "kernelspec": {
   "display_name": "Python 3",
   "language": "python",
   "name": "python3"
  },
  "language_info": {
   "codemirror_mode": {
    "name": "ipython",
    "version": 3
   },
   "file_extension": ".py",
   "mimetype": "text/x-python",
   "name": "python",
   "nbconvert_exporter": "python",
   "pygments_lexer": "ipython3",
   "version": "3.6.13"
  }
 },
 "nbformat": 4,
 "nbformat_minor": 5
}
