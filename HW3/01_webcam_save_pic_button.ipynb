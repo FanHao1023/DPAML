{
 "cells": [
  {
   "cell_type": "code",
   "execution_count": 1,
   "id": "267ade94",
   "metadata": {},
   "outputs": [],
   "source": [
    "import cv2\n",
    "import os\n"
   ]
  },
  {
   "cell_type": "code",
   "execution_count": 2,
   "id": "e0d0816e",
   "metadata": {},
   "outputs": [],
   "source": [
    "# 選擇第攝影機\n",
    "cap = cv2.VideoCapture(0)\n",
    "# 設定影像的尺寸大小\n",
    "cap.set(cv2.CAP_PROP_FRAME_WIDTH, 640)\n",
    "cap.set(cv2.CAP_PROP_FRAME_HEIGHT, 480)\n",
    "\n",
    "# 讀取資料夾資訊\n",
    "# file_path = os.getcwd() + '\\\\output'\n",
    "# file_path = os.getcwd() + '\\\\train'\n",
    "file_path = 'train/'\n",
    "all_file = os.listdir(file_path)\n",
    "pic_num_a = len(all_file)\n",
    "pic_num_b = len(all_file)\n",
    "pic_num_c = len(all_file)\n",
    "\n",
    "\n"
   ]
  },
  {
   "cell_type": "code",
   "execution_count": 3,
   "id": "f95f52cc",
   "metadata": {},
   "outputs": [],
   "source": [
    "while(True):\n",
    "    # 從攝影機擷取一張影像\n",
    "    ret, frame = cap.read()\n",
    "    \n",
    "    if cv2.waitKey(1) & 0xFF == ord('a'): # 若按下 s 鍵則拍照\n",
    "        # 決定儲存圖片路徑與名稱\n",
    "        pic_num_a = pic_num_a + 1\n",
    "        output_path = file_path + 'scissor/' + 'scissor_' + str(pic_num_a) + '.jpg'\n",
    "        # 儲存圖片\n",
    "        cv2.imwrite(output_path, frame)\n",
    "        # 拍照閃光效果，視覺輔助用\n",
    "        #frame = cv2.convertScaleAbs(frame, alpha = 1, beta = 128)\n",
    "        \n",
    "    \n",
    "    elif cv2.waitKey(1) & 0xFF == ord('q'): # 若按下 q 鍵則離開迴圈\n",
    "        break\n",
    "        \n",
    "        # 拍照閃光效果，視覺輔助用\n",
    "        #frame = cv2.convertScaleAbs(frame, alpha = 1, beta = 128)\n",
    "        \n",
    "    #------------------------------------------------------------------------\n",
    "    #   以下根據按不同按鍵存放在不同位置\n",
    "    elif cv2.waitKey(1) & 0xFF == ord('b'): # 若按下 s 鍵則拍照\n",
    "        # 決定儲存圖片路徑與名稱\n",
    "        pic_num_b = pic_num_b + 1\n",
    "        output_path = file_path +'rock/'+ 'rock_' + str(pic_num_b) + '.jpg'\n",
    "        # 儲存圖片\n",
    "        cv2.imwrite(output_path, frame)\n",
    "        # 拍照閃光效果，視覺輔助用\n",
    "        #frame = cv2.convertScaleAbs(frame, alpha = 1, beta = 128)\n",
    "        \n",
    "        \n",
    "    elif cv2.waitKey(1) & 0xFF == ord('c'): # 若按下 s 鍵則拍照\n",
    "        # 決定儲存圖片路徑與名稱\n",
    "        pic_num_c = pic_num_c + 1\n",
    "        output_path = file_path +'paper/'+ 'paper_' + str(pic_num_c) + '.jpg'\n",
    "        # 儲存圖片\n",
    "        cv2.imwrite(output_path, frame)\n",
    "        # 拍照閃光效果，視覺輔助用\n",
    "        #frame = cv2.convertScaleAbs(frame, alpha = 1, beta = 128)\n",
    "    \n",
    "    \n",
    "    \n",
    "    \n",
    "    \n",
    "    \n",
    "    \n",
    "    \n",
    "    #------------------------------------------------------------------------\n",
    "    \n",
    "    \n",
    "    # 顯示圖片\n",
    "    cv2.imshow('frame', frame)\n",
    "\n",
    "# 釋放攝影機\n",
    "cap.release()\n",
    "\n",
    "# 關閉所有 OpenCV 視窗\n",
    "cv2.destroyAllWindows()"
   ]
  },
  {
   "cell_type": "code",
   "execution_count": null,
   "id": "8db69346",
   "metadata": {},
   "outputs": [],
   "source": []
  }
 ],
 "metadata": {
  "kernelspec": {
   "display_name": "Python 3",
   "language": "python",
   "name": "python3"
  },
  "language_info": {
   "codemirror_mode": {
    "name": "ipython",
    "version": 3
   },
   "file_extension": ".py",
   "mimetype": "text/x-python",
   "name": "python",
   "nbconvert_exporter": "python",
   "pygments_lexer": "ipython3",
   "version": "3.6.13"
  },
  "toc": {
   "base_numbering": 1,
   "nav_menu": {},
   "number_sections": false,
   "sideBar": true,
   "skip_h1_title": true,
   "title_cell": "Table of Contents",
   "title_sidebar": "Contents",
   "toc_cell": false,
   "toc_position": {},
   "toc_section_display": true,
   "toc_window_display": false
  },
  "varInspector": {
   "cols": {
    "lenName": 16,
    "lenType": 16,
    "lenVar": 40
   },
   "kernels_config": {
    "python": {
     "delete_cmd_postfix": "",
     "delete_cmd_prefix": "del ",
     "library": "var_list.py",
     "varRefreshCmd": "print(var_dic_list())"
    },
    "r": {
     "delete_cmd_postfix": ") ",
     "delete_cmd_prefix": "rm(",
     "library": "var_list.r",
     "varRefreshCmd": "cat(var_dic_list()) "
    }
   },
   "types_to_exclude": [
    "module",
    "function",
    "builtin_function_or_method",
    "instance",
    "_Feature"
   ],
   "window_display": false
  }
 },
 "nbformat": 4,
 "nbformat_minor": 5
}
